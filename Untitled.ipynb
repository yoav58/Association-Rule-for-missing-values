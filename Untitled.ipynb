{
 "cells": [
  {
   "cell_type": "markdown",
   "id": "ea420a92",
   "metadata": {},
   "source": [
    "### Association rule to deal with null values Example\n",
    "The purpose of this file is to showcase the implementation of the apriori algorithm for handling missing values in a dataset.\n",
    "For this demonstration, I selected the Car insurance dataset, which features customer information. the target in this data set is to forecast if a customer has made a claim on their insurance policy (represented by a target of 1) or not (represented by a target of 0)."
   ]
  },
  {
   "cell_type": "markdown",
   "id": "ffb48dac",
   "metadata": {},
   "source": [
    "## 0. Import"
   ]
  },
  {
   "cell_type": "code",
   "execution_count": 45,
   "id": "42f098cd",
   "metadata": {},
   "outputs": [],
   "source": [
    "import pandas as pd\n",
    "from  Helper import HelperMethods\n",
    "from sklearn.model_selection import train_test_split\n",
    "from AprioriForNull import AprioriForNull\n",
    "from NullValuesFiller import NullValuesFiller\n",
    "from sklearn.linear_model import LogisticRegression\n",
    "from sklearn.metrics import accuracy_score, precision_score, recall_score, f1_score\n",
    "import plotly.express as px"
   ]
  },
  {
   "cell_type": "markdown",
   "id": "c2db9443",
   "metadata": {},
   "source": [
    "## 1. Read the Customer data set and analyze it"
   ]
  },
  {
   "cell_type": "code",
   "execution_count": 46,
   "id": "f128fd31",
   "metadata": {},
   "outputs": [],
   "source": [
    " dtf = pd.read_csv('Car Insurance/Car_Insurance_Claim.csv').drop('ID', axis=1)"
   ]
  },
  {
   "cell_type": "code",
   "execution_count": 47,
   "id": "c25d39ed",
   "metadata": {},
   "outputs": [
    {
     "data": {
      "text/html": [
       "<div>\n",
       "<style scoped>\n",
       "    .dataframe tbody tr th:only-of-type {\n",
       "        vertical-align: middle;\n",
       "    }\n",
       "\n",
       "    .dataframe tbody tr th {\n",
       "        vertical-align: top;\n",
       "    }\n",
       "\n",
       "    .dataframe thead th {\n",
       "        text-align: right;\n",
       "    }\n",
       "</style>\n",
       "<table border=\"1\" class=\"dataframe\">\n",
       "  <thead>\n",
       "    <tr style=\"text-align: right;\">\n",
       "      <th></th>\n",
       "      <th>AGE</th>\n",
       "      <th>GENDER</th>\n",
       "      <th>RACE</th>\n",
       "      <th>DRIVING_EXPERIENCE</th>\n",
       "      <th>EDUCATION</th>\n",
       "      <th>INCOME</th>\n",
       "      <th>CREDIT_SCORE</th>\n",
       "      <th>VEHICLE_OWNERSHIP</th>\n",
       "      <th>VEHICLE_YEAR</th>\n",
       "      <th>MARRIED</th>\n",
       "      <th>CHILDREN</th>\n",
       "      <th>POSTAL_CODE</th>\n",
       "      <th>ANNUAL_MILEAGE</th>\n",
       "      <th>VEHICLE_TYPE</th>\n",
       "      <th>SPEEDING_VIOLATIONS</th>\n",
       "      <th>DUIS</th>\n",
       "      <th>PAST_ACCIDENTS</th>\n",
       "      <th>OUTCOME</th>\n",
       "    </tr>\n",
       "  </thead>\n",
       "  <tbody>\n",
       "    <tr>\n",
       "      <th>0</th>\n",
       "      <td>65+</td>\n",
       "      <td>female</td>\n",
       "      <td>majority</td>\n",
       "      <td>0-9y</td>\n",
       "      <td>high school</td>\n",
       "      <td>upper class</td>\n",
       "      <td>0.629027</td>\n",
       "      <td>1.0</td>\n",
       "      <td>after 2015</td>\n",
       "      <td>0.0</td>\n",
       "      <td>1.0</td>\n",
       "      <td>10238</td>\n",
       "      <td>12000.0</td>\n",
       "      <td>sedan</td>\n",
       "      <td>0</td>\n",
       "      <td>0</td>\n",
       "      <td>0</td>\n",
       "      <td>0.0</td>\n",
       "    </tr>\n",
       "    <tr>\n",
       "      <th>1</th>\n",
       "      <td>16-25</td>\n",
       "      <td>male</td>\n",
       "      <td>majority</td>\n",
       "      <td>0-9y</td>\n",
       "      <td>none</td>\n",
       "      <td>poverty</td>\n",
       "      <td>0.357757</td>\n",
       "      <td>0.0</td>\n",
       "      <td>before 2015</td>\n",
       "      <td>0.0</td>\n",
       "      <td>0.0</td>\n",
       "      <td>10238</td>\n",
       "      <td>16000.0</td>\n",
       "      <td>sedan</td>\n",
       "      <td>0</td>\n",
       "      <td>0</td>\n",
       "      <td>0</td>\n",
       "      <td>1.0</td>\n",
       "    </tr>\n",
       "    <tr>\n",
       "      <th>2</th>\n",
       "      <td>16-25</td>\n",
       "      <td>female</td>\n",
       "      <td>majority</td>\n",
       "      <td>0-9y</td>\n",
       "      <td>high school</td>\n",
       "      <td>working class</td>\n",
       "      <td>0.493146</td>\n",
       "      <td>1.0</td>\n",
       "      <td>before 2015</td>\n",
       "      <td>0.0</td>\n",
       "      <td>0.0</td>\n",
       "      <td>10238</td>\n",
       "      <td>11000.0</td>\n",
       "      <td>sedan</td>\n",
       "      <td>0</td>\n",
       "      <td>0</td>\n",
       "      <td>0</td>\n",
       "      <td>0.0</td>\n",
       "    </tr>\n",
       "    <tr>\n",
       "      <th>3</th>\n",
       "      <td>16-25</td>\n",
       "      <td>male</td>\n",
       "      <td>majority</td>\n",
       "      <td>0-9y</td>\n",
       "      <td>university</td>\n",
       "      <td>working class</td>\n",
       "      <td>0.206013</td>\n",
       "      <td>1.0</td>\n",
       "      <td>before 2015</td>\n",
       "      <td>0.0</td>\n",
       "      <td>1.0</td>\n",
       "      <td>32765</td>\n",
       "      <td>11000.0</td>\n",
       "      <td>sedan</td>\n",
       "      <td>0</td>\n",
       "      <td>0</td>\n",
       "      <td>0</td>\n",
       "      <td>0.0</td>\n",
       "    </tr>\n",
       "    <tr>\n",
       "      <th>4</th>\n",
       "      <td>26-39</td>\n",
       "      <td>male</td>\n",
       "      <td>majority</td>\n",
       "      <td>10-19y</td>\n",
       "      <td>none</td>\n",
       "      <td>working class</td>\n",
       "      <td>0.388366</td>\n",
       "      <td>1.0</td>\n",
       "      <td>before 2015</td>\n",
       "      <td>0.0</td>\n",
       "      <td>0.0</td>\n",
       "      <td>32765</td>\n",
       "      <td>12000.0</td>\n",
       "      <td>sedan</td>\n",
       "      <td>2</td>\n",
       "      <td>0</td>\n",
       "      <td>1</td>\n",
       "      <td>1.0</td>\n",
       "    </tr>\n",
       "  </tbody>\n",
       "</table>\n",
       "</div>"
      ],
      "text/plain": [
       "     AGE  GENDER      RACE DRIVING_EXPERIENCE    EDUCATION         INCOME  \\\n",
       "0    65+  female  majority               0-9y  high school    upper class   \n",
       "1  16-25    male  majority               0-9y         none        poverty   \n",
       "2  16-25  female  majority               0-9y  high school  working class   \n",
       "3  16-25    male  majority               0-9y   university  working class   \n",
       "4  26-39    male  majority             10-19y         none  working class   \n",
       "\n",
       "   CREDIT_SCORE  VEHICLE_OWNERSHIP VEHICLE_YEAR  MARRIED  CHILDREN  \\\n",
       "0      0.629027                1.0   after 2015      0.0       1.0   \n",
       "1      0.357757                0.0  before 2015      0.0       0.0   \n",
       "2      0.493146                1.0  before 2015      0.0       0.0   \n",
       "3      0.206013                1.0  before 2015      0.0       1.0   \n",
       "4      0.388366                1.0  before 2015      0.0       0.0   \n",
       "\n",
       "   POSTAL_CODE  ANNUAL_MILEAGE VEHICLE_TYPE  SPEEDING_VIOLATIONS  DUIS  \\\n",
       "0        10238         12000.0        sedan                    0     0   \n",
       "1        10238         16000.0        sedan                    0     0   \n",
       "2        10238         11000.0        sedan                    0     0   \n",
       "3        32765         11000.0        sedan                    0     0   \n",
       "4        32765         12000.0        sedan                    2     0   \n",
       "\n",
       "   PAST_ACCIDENTS  OUTCOME  \n",
       "0               0      0.0  \n",
       "1               0      1.0  \n",
       "2               0      0.0  \n",
       "3               0      0.0  \n",
       "4               1      1.0  "
      ]
     },
     "execution_count": 47,
     "metadata": {},
     "output_type": "execute_result"
    }
   ],
   "source": [
    "dtf.head()"
   ]
  },
  {
   "cell_type": "code",
   "execution_count": 48,
   "id": "a4d2e975",
   "metadata": {},
   "outputs": [
    {
     "data": {
      "text/html": [
       "<div>\n",
       "<style scoped>\n",
       "    .dataframe tbody tr th:only-of-type {\n",
       "        vertical-align: middle;\n",
       "    }\n",
       "\n",
       "    .dataframe tbody tr th {\n",
       "        vertical-align: top;\n",
       "    }\n",
       "\n",
       "    .dataframe thead th {\n",
       "        text-align: right;\n",
       "    }\n",
       "</style>\n",
       "<table border=\"1\" class=\"dataframe\">\n",
       "  <thead>\n",
       "    <tr style=\"text-align: right;\">\n",
       "      <th></th>\n",
       "      <th>CREDIT_SCORE</th>\n",
       "      <th>VEHICLE_OWNERSHIP</th>\n",
       "      <th>MARRIED</th>\n",
       "      <th>CHILDREN</th>\n",
       "      <th>POSTAL_CODE</th>\n",
       "      <th>ANNUAL_MILEAGE</th>\n",
       "      <th>SPEEDING_VIOLATIONS</th>\n",
       "      <th>DUIS</th>\n",
       "      <th>PAST_ACCIDENTS</th>\n",
       "      <th>OUTCOME</th>\n",
       "    </tr>\n",
       "  </thead>\n",
       "  <tbody>\n",
       "    <tr>\n",
       "      <th>count</th>\n",
       "      <td>9018.000000</td>\n",
       "      <td>10000.000000</td>\n",
       "      <td>10000.000000</td>\n",
       "      <td>10000.000000</td>\n",
       "      <td>10000.000000</td>\n",
       "      <td>9043.000000</td>\n",
       "      <td>10000.000000</td>\n",
       "      <td>10000.00000</td>\n",
       "      <td>10000.000000</td>\n",
       "      <td>10000.000000</td>\n",
       "    </tr>\n",
       "    <tr>\n",
       "      <th>mean</th>\n",
       "      <td>0.515813</td>\n",
       "      <td>0.697000</td>\n",
       "      <td>0.498200</td>\n",
       "      <td>0.688800</td>\n",
       "      <td>19864.548400</td>\n",
       "      <td>11697.003207</td>\n",
       "      <td>1.482900</td>\n",
       "      <td>0.23920</td>\n",
       "      <td>1.056300</td>\n",
       "      <td>0.313300</td>\n",
       "    </tr>\n",
       "    <tr>\n",
       "      <th>std</th>\n",
       "      <td>0.137688</td>\n",
       "      <td>0.459578</td>\n",
       "      <td>0.500022</td>\n",
       "      <td>0.463008</td>\n",
       "      <td>18915.613855</td>\n",
       "      <td>2818.434528</td>\n",
       "      <td>2.241966</td>\n",
       "      <td>0.55499</td>\n",
       "      <td>1.652454</td>\n",
       "      <td>0.463858</td>\n",
       "    </tr>\n",
       "    <tr>\n",
       "      <th>min</th>\n",
       "      <td>0.053358</td>\n",
       "      <td>0.000000</td>\n",
       "      <td>0.000000</td>\n",
       "      <td>0.000000</td>\n",
       "      <td>10238.000000</td>\n",
       "      <td>2000.000000</td>\n",
       "      <td>0.000000</td>\n",
       "      <td>0.00000</td>\n",
       "      <td>0.000000</td>\n",
       "      <td>0.000000</td>\n",
       "    </tr>\n",
       "    <tr>\n",
       "      <th>25%</th>\n",
       "      <td>0.417191</td>\n",
       "      <td>0.000000</td>\n",
       "      <td>0.000000</td>\n",
       "      <td>0.000000</td>\n",
       "      <td>10238.000000</td>\n",
       "      <td>10000.000000</td>\n",
       "      <td>0.000000</td>\n",
       "      <td>0.00000</td>\n",
       "      <td>0.000000</td>\n",
       "      <td>0.000000</td>\n",
       "    </tr>\n",
       "    <tr>\n",
       "      <th>50%</th>\n",
       "      <td>0.525033</td>\n",
       "      <td>1.000000</td>\n",
       "      <td>0.000000</td>\n",
       "      <td>1.000000</td>\n",
       "      <td>10238.000000</td>\n",
       "      <td>12000.000000</td>\n",
       "      <td>0.000000</td>\n",
       "      <td>0.00000</td>\n",
       "      <td>0.000000</td>\n",
       "      <td>0.000000</td>\n",
       "    </tr>\n",
       "    <tr>\n",
       "      <th>75%</th>\n",
       "      <td>0.618312</td>\n",
       "      <td>1.000000</td>\n",
       "      <td>1.000000</td>\n",
       "      <td>1.000000</td>\n",
       "      <td>32765.000000</td>\n",
       "      <td>14000.000000</td>\n",
       "      <td>2.000000</td>\n",
       "      <td>0.00000</td>\n",
       "      <td>2.000000</td>\n",
       "      <td>1.000000</td>\n",
       "    </tr>\n",
       "    <tr>\n",
       "      <th>max</th>\n",
       "      <td>0.960819</td>\n",
       "      <td>1.000000</td>\n",
       "      <td>1.000000</td>\n",
       "      <td>1.000000</td>\n",
       "      <td>92101.000000</td>\n",
       "      <td>22000.000000</td>\n",
       "      <td>22.000000</td>\n",
       "      <td>6.00000</td>\n",
       "      <td>15.000000</td>\n",
       "      <td>1.000000</td>\n",
       "    </tr>\n",
       "  </tbody>\n",
       "</table>\n",
       "</div>"
      ],
      "text/plain": [
       "       CREDIT_SCORE  VEHICLE_OWNERSHIP       MARRIED      CHILDREN  \\\n",
       "count   9018.000000       10000.000000  10000.000000  10000.000000   \n",
       "mean       0.515813           0.697000      0.498200      0.688800   \n",
       "std        0.137688           0.459578      0.500022      0.463008   \n",
       "min        0.053358           0.000000      0.000000      0.000000   \n",
       "25%        0.417191           0.000000      0.000000      0.000000   \n",
       "50%        0.525033           1.000000      0.000000      1.000000   \n",
       "75%        0.618312           1.000000      1.000000      1.000000   \n",
       "max        0.960819           1.000000      1.000000      1.000000   \n",
       "\n",
       "        POSTAL_CODE  ANNUAL_MILEAGE  SPEEDING_VIOLATIONS         DUIS  \\\n",
       "count  10000.000000     9043.000000         10000.000000  10000.00000   \n",
       "mean   19864.548400    11697.003207             1.482900      0.23920   \n",
       "std    18915.613855     2818.434528             2.241966      0.55499   \n",
       "min    10238.000000     2000.000000             0.000000      0.00000   \n",
       "25%    10238.000000    10000.000000             0.000000      0.00000   \n",
       "50%    10238.000000    12000.000000             0.000000      0.00000   \n",
       "75%    32765.000000    14000.000000             2.000000      0.00000   \n",
       "max    92101.000000    22000.000000            22.000000      6.00000   \n",
       "\n",
       "       PAST_ACCIDENTS       OUTCOME  \n",
       "count    10000.000000  10000.000000  \n",
       "mean         1.056300      0.313300  \n",
       "std          1.652454      0.463858  \n",
       "min          0.000000      0.000000  \n",
       "25%          0.000000      0.000000  \n",
       "50%          0.000000      0.000000  \n",
       "75%          2.000000      1.000000  \n",
       "max         15.000000      1.000000  "
      ]
     },
     "execution_count": 48,
     "metadata": {},
     "output_type": "execute_result"
    }
   ],
   "source": [
    "dtf.describe()"
   ]
  },
  {
   "cell_type": "code",
   "execution_count": 49,
   "id": "1ac281e3",
   "metadata": {},
   "outputs": [
    {
     "data": {
      "application/vnd.plotly.v1+json": {
       "config": {
        "plotlyServerURL": "https://plot.ly"
       },
       "data": [
        {
         "alignmentgroup": "True",
         "hovertemplate": "Columns=%{x}<br>Percentage of Missing Values=%{y}<extra></extra>",
         "legendgroup": "",
         "marker": {
          "color": "red",
          "pattern": {
           "shape": ""
          }
         },
         "name": "",
         "offsetgroup": "",
         "orientation": "v",
         "showlegend": false,
         "textposition": "auto",
         "type": "bar",
         "x": [
          "CREDIT_SCORE",
          "ANNUAL_MILEAGE",
          "AGE",
          "CHILDREN",
          "PAST_ACCIDENTS",
          "DUIS",
          "SPEEDING_VIOLATIONS",
          "VEHICLE_TYPE",
          "POSTAL_CODE",
          "MARRIED",
          "GENDER",
          "VEHICLE_YEAR",
          "VEHICLE_OWNERSHIP",
          "INCOME",
          "EDUCATION",
          "DRIVING_EXPERIENCE",
          "RACE",
          "OUTCOME"
         ],
         "xaxis": "x",
         "y": [
          9.82,
          9.57,
          0,
          0,
          0,
          0,
          0,
          0,
          0,
          0,
          0,
          0,
          0,
          0,
          0,
          0,
          0,
          0
         ],
         "yaxis": "y"
        }
       ],
       "layout": {
        "barmode": "relative",
        "legend": {
         "tracegroupgap": 0
        },
        "template": {
         "data": {
          "bar": [
           {
            "error_x": {
             "color": "#2a3f5f"
            },
            "error_y": {
             "color": "#2a3f5f"
            },
            "marker": {
             "line": {
              "color": "#E5ECF6",
              "width": 0.5
             },
             "pattern": {
              "fillmode": "overlay",
              "size": 10,
              "solidity": 0.2
             }
            },
            "type": "bar"
           }
          ],
          "barpolar": [
           {
            "marker": {
             "line": {
              "color": "#E5ECF6",
              "width": 0.5
             },
             "pattern": {
              "fillmode": "overlay",
              "size": 10,
              "solidity": 0.2
             }
            },
            "type": "barpolar"
           }
          ],
          "carpet": [
           {
            "aaxis": {
             "endlinecolor": "#2a3f5f",
             "gridcolor": "white",
             "linecolor": "white",
             "minorgridcolor": "white",
             "startlinecolor": "#2a3f5f"
            },
            "baxis": {
             "endlinecolor": "#2a3f5f",
             "gridcolor": "white",
             "linecolor": "white",
             "minorgridcolor": "white",
             "startlinecolor": "#2a3f5f"
            },
            "type": "carpet"
           }
          ],
          "choropleth": [
           {
            "colorbar": {
             "outlinewidth": 0,
             "ticks": ""
            },
            "type": "choropleth"
           }
          ],
          "contour": [
           {
            "colorbar": {
             "outlinewidth": 0,
             "ticks": ""
            },
            "colorscale": [
             [
              0,
              "#0d0887"
             ],
             [
              0.1111111111111111,
              "#46039f"
             ],
             [
              0.2222222222222222,
              "#7201a8"
             ],
             [
              0.3333333333333333,
              "#9c179e"
             ],
             [
              0.4444444444444444,
              "#bd3786"
             ],
             [
              0.5555555555555556,
              "#d8576b"
             ],
             [
              0.6666666666666666,
              "#ed7953"
             ],
             [
              0.7777777777777778,
              "#fb9f3a"
             ],
             [
              0.8888888888888888,
              "#fdca26"
             ],
             [
              1,
              "#f0f921"
             ]
            ],
            "type": "contour"
           }
          ],
          "contourcarpet": [
           {
            "colorbar": {
             "outlinewidth": 0,
             "ticks": ""
            },
            "type": "contourcarpet"
           }
          ],
          "heatmap": [
           {
            "colorbar": {
             "outlinewidth": 0,
             "ticks": ""
            },
            "colorscale": [
             [
              0,
              "#0d0887"
             ],
             [
              0.1111111111111111,
              "#46039f"
             ],
             [
              0.2222222222222222,
              "#7201a8"
             ],
             [
              0.3333333333333333,
              "#9c179e"
             ],
             [
              0.4444444444444444,
              "#bd3786"
             ],
             [
              0.5555555555555556,
              "#d8576b"
             ],
             [
              0.6666666666666666,
              "#ed7953"
             ],
             [
              0.7777777777777778,
              "#fb9f3a"
             ],
             [
              0.8888888888888888,
              "#fdca26"
             ],
             [
              1,
              "#f0f921"
             ]
            ],
            "type": "heatmap"
           }
          ],
          "heatmapgl": [
           {
            "colorbar": {
             "outlinewidth": 0,
             "ticks": ""
            },
            "colorscale": [
             [
              0,
              "#0d0887"
             ],
             [
              0.1111111111111111,
              "#46039f"
             ],
             [
              0.2222222222222222,
              "#7201a8"
             ],
             [
              0.3333333333333333,
              "#9c179e"
             ],
             [
              0.4444444444444444,
              "#bd3786"
             ],
             [
              0.5555555555555556,
              "#d8576b"
             ],
             [
              0.6666666666666666,
              "#ed7953"
             ],
             [
              0.7777777777777778,
              "#fb9f3a"
             ],
             [
              0.8888888888888888,
              "#fdca26"
             ],
             [
              1,
              "#f0f921"
             ]
            ],
            "type": "heatmapgl"
           }
          ],
          "histogram": [
           {
            "marker": {
             "pattern": {
              "fillmode": "overlay",
              "size": 10,
              "solidity": 0.2
             }
            },
            "type": "histogram"
           }
          ],
          "histogram2d": [
           {
            "colorbar": {
             "outlinewidth": 0,
             "ticks": ""
            },
            "colorscale": [
             [
              0,
              "#0d0887"
             ],
             [
              0.1111111111111111,
              "#46039f"
             ],
             [
              0.2222222222222222,
              "#7201a8"
             ],
             [
              0.3333333333333333,
              "#9c179e"
             ],
             [
              0.4444444444444444,
              "#bd3786"
             ],
             [
              0.5555555555555556,
              "#d8576b"
             ],
             [
              0.6666666666666666,
              "#ed7953"
             ],
             [
              0.7777777777777778,
              "#fb9f3a"
             ],
             [
              0.8888888888888888,
              "#fdca26"
             ],
             [
              1,
              "#f0f921"
             ]
            ],
            "type": "histogram2d"
           }
          ],
          "histogram2dcontour": [
           {
            "colorbar": {
             "outlinewidth": 0,
             "ticks": ""
            },
            "colorscale": [
             [
              0,
              "#0d0887"
             ],
             [
              0.1111111111111111,
              "#46039f"
             ],
             [
              0.2222222222222222,
              "#7201a8"
             ],
             [
              0.3333333333333333,
              "#9c179e"
             ],
             [
              0.4444444444444444,
              "#bd3786"
             ],
             [
              0.5555555555555556,
              "#d8576b"
             ],
             [
              0.6666666666666666,
              "#ed7953"
             ],
             [
              0.7777777777777778,
              "#fb9f3a"
             ],
             [
              0.8888888888888888,
              "#fdca26"
             ],
             [
              1,
              "#f0f921"
             ]
            ],
            "type": "histogram2dcontour"
           }
          ],
          "mesh3d": [
           {
            "colorbar": {
             "outlinewidth": 0,
             "ticks": ""
            },
            "type": "mesh3d"
           }
          ],
          "parcoords": [
           {
            "line": {
             "colorbar": {
              "outlinewidth": 0,
              "ticks": ""
             }
            },
            "type": "parcoords"
           }
          ],
          "pie": [
           {
            "automargin": true,
            "type": "pie"
           }
          ],
          "scatter": [
           {
            "fillpattern": {
             "fillmode": "overlay",
             "size": 10,
             "solidity": 0.2
            },
            "type": "scatter"
           }
          ],
          "scatter3d": [
           {
            "line": {
             "colorbar": {
              "outlinewidth": 0,
              "ticks": ""
             }
            },
            "marker": {
             "colorbar": {
              "outlinewidth": 0,
              "ticks": ""
             }
            },
            "type": "scatter3d"
           }
          ],
          "scattercarpet": [
           {
            "marker": {
             "colorbar": {
              "outlinewidth": 0,
              "ticks": ""
             }
            },
            "type": "scattercarpet"
           }
          ],
          "scattergeo": [
           {
            "marker": {
             "colorbar": {
              "outlinewidth": 0,
              "ticks": ""
             }
            },
            "type": "scattergeo"
           }
          ],
          "scattergl": [
           {
            "marker": {
             "colorbar": {
              "outlinewidth": 0,
              "ticks": ""
             }
            },
            "type": "scattergl"
           }
          ],
          "scattermapbox": [
           {
            "marker": {
             "colorbar": {
              "outlinewidth": 0,
              "ticks": ""
             }
            },
            "type": "scattermapbox"
           }
          ],
          "scatterpolar": [
           {
            "marker": {
             "colorbar": {
              "outlinewidth": 0,
              "ticks": ""
             }
            },
            "type": "scatterpolar"
           }
          ],
          "scatterpolargl": [
           {
            "marker": {
             "colorbar": {
              "outlinewidth": 0,
              "ticks": ""
             }
            },
            "type": "scatterpolargl"
           }
          ],
          "scatterternary": [
           {
            "marker": {
             "colorbar": {
              "outlinewidth": 0,
              "ticks": ""
             }
            },
            "type": "scatterternary"
           }
          ],
          "surface": [
           {
            "colorbar": {
             "outlinewidth": 0,
             "ticks": ""
            },
            "colorscale": [
             [
              0,
              "#0d0887"
             ],
             [
              0.1111111111111111,
              "#46039f"
             ],
             [
              0.2222222222222222,
              "#7201a8"
             ],
             [
              0.3333333333333333,
              "#9c179e"
             ],
             [
              0.4444444444444444,
              "#bd3786"
             ],
             [
              0.5555555555555556,
              "#d8576b"
             ],
             [
              0.6666666666666666,
              "#ed7953"
             ],
             [
              0.7777777777777778,
              "#fb9f3a"
             ],
             [
              0.8888888888888888,
              "#fdca26"
             ],
             [
              1,
              "#f0f921"
             ]
            ],
            "type": "surface"
           }
          ],
          "table": [
           {
            "cells": {
             "fill": {
              "color": "#EBF0F8"
             },
             "line": {
              "color": "white"
             }
            },
            "header": {
             "fill": {
              "color": "#C8D4E3"
             },
             "line": {
              "color": "white"
             }
            },
            "type": "table"
           }
          ]
         },
         "layout": {
          "annotationdefaults": {
           "arrowcolor": "#2a3f5f",
           "arrowhead": 0,
           "arrowwidth": 1
          },
          "autotypenumbers": "strict",
          "coloraxis": {
           "colorbar": {
            "outlinewidth": 0,
            "ticks": ""
           }
          },
          "colorscale": {
           "diverging": [
            [
             0,
             "#8e0152"
            ],
            [
             0.1,
             "#c51b7d"
            ],
            [
             0.2,
             "#de77ae"
            ],
            [
             0.3,
             "#f1b6da"
            ],
            [
             0.4,
             "#fde0ef"
            ],
            [
             0.5,
             "#f7f7f7"
            ],
            [
             0.6,
             "#e6f5d0"
            ],
            [
             0.7,
             "#b8e186"
            ],
            [
             0.8,
             "#7fbc41"
            ],
            [
             0.9,
             "#4d9221"
            ],
            [
             1,
             "#276419"
            ]
           ],
           "sequential": [
            [
             0,
             "#0d0887"
            ],
            [
             0.1111111111111111,
             "#46039f"
            ],
            [
             0.2222222222222222,
             "#7201a8"
            ],
            [
             0.3333333333333333,
             "#9c179e"
            ],
            [
             0.4444444444444444,
             "#bd3786"
            ],
            [
             0.5555555555555556,
             "#d8576b"
            ],
            [
             0.6666666666666666,
             "#ed7953"
            ],
            [
             0.7777777777777778,
             "#fb9f3a"
            ],
            [
             0.8888888888888888,
             "#fdca26"
            ],
            [
             1,
             "#f0f921"
            ]
           ],
           "sequentialminus": [
            [
             0,
             "#0d0887"
            ],
            [
             0.1111111111111111,
             "#46039f"
            ],
            [
             0.2222222222222222,
             "#7201a8"
            ],
            [
             0.3333333333333333,
             "#9c179e"
            ],
            [
             0.4444444444444444,
             "#bd3786"
            ],
            [
             0.5555555555555556,
             "#d8576b"
            ],
            [
             0.6666666666666666,
             "#ed7953"
            ],
            [
             0.7777777777777778,
             "#fb9f3a"
            ],
            [
             0.8888888888888888,
             "#fdca26"
            ],
            [
             1,
             "#f0f921"
            ]
           ]
          },
          "colorway": [
           "#636efa",
           "#EF553B",
           "#00cc96",
           "#ab63fa",
           "#FFA15A",
           "#19d3f3",
           "#FF6692",
           "#B6E880",
           "#FF97FF",
           "#FECB52"
          ],
          "font": {
           "color": "#2a3f5f"
          },
          "geo": {
           "bgcolor": "white",
           "lakecolor": "white",
           "landcolor": "#E5ECF6",
           "showlakes": true,
           "showland": true,
           "subunitcolor": "white"
          },
          "hoverlabel": {
           "align": "left"
          },
          "hovermode": "closest",
          "mapbox": {
           "style": "light"
          },
          "paper_bgcolor": "white",
          "plot_bgcolor": "#E5ECF6",
          "polar": {
           "angularaxis": {
            "gridcolor": "white",
            "linecolor": "white",
            "ticks": ""
           },
           "bgcolor": "#E5ECF6",
           "radialaxis": {
            "gridcolor": "white",
            "linecolor": "white",
            "ticks": ""
           }
          },
          "scene": {
           "xaxis": {
            "backgroundcolor": "#E5ECF6",
            "gridcolor": "white",
            "gridwidth": 2,
            "linecolor": "white",
            "showbackground": true,
            "ticks": "",
            "zerolinecolor": "white"
           },
           "yaxis": {
            "backgroundcolor": "#E5ECF6",
            "gridcolor": "white",
            "gridwidth": 2,
            "linecolor": "white",
            "showbackground": true,
            "ticks": "",
            "zerolinecolor": "white"
           },
           "zaxis": {
            "backgroundcolor": "#E5ECF6",
            "gridcolor": "white",
            "gridwidth": 2,
            "linecolor": "white",
            "showbackground": true,
            "ticks": "",
            "zerolinecolor": "white"
           }
          },
          "shapedefaults": {
           "line": {
            "color": "#2a3f5f"
           }
          },
          "ternary": {
           "aaxis": {
            "gridcolor": "white",
            "linecolor": "white",
            "ticks": ""
           },
           "baxis": {
            "gridcolor": "white",
            "linecolor": "white",
            "ticks": ""
           },
           "bgcolor": "#E5ECF6",
           "caxis": {
            "gridcolor": "white",
            "linecolor": "white",
            "ticks": ""
           }
          },
          "title": {
           "x": 0.05
          },
          "xaxis": {
           "automargin": true,
           "gridcolor": "white",
           "linecolor": "white",
           "ticks": "",
           "title": {
            "standoff": 15
           },
           "zerolinecolor": "white",
           "zerolinewidth": 2
          },
          "yaxis": {
           "automargin": true,
           "gridcolor": "white",
           "linecolor": "white",
           "ticks": "",
           "title": {
            "standoff": 15
           },
           "zerolinecolor": "white",
           "zerolinewidth": 2
          }
         }
        },
        "title": {
         "text": "Percentage of Missing Values"
        },
        "xaxis": {
         "anchor": "y",
         "domain": [
          0,
          1
         ],
         "title": {
          "text": "Columns"
         }
        },
        "yaxis": {
         "anchor": "x",
         "domain": [
          0,
          1
         ],
         "title": {
          "text": "Percentage of Missing Values"
         }
        }
       }
      },
      "text/html": [
       "<div>                            <div id=\"dbd5eb53-294b-4f31-aa3e-255b2de819b8\" class=\"plotly-graph-div\" style=\"height:525px; width:100%;\"></div>            <script type=\"text/javascript\">                require([\"plotly\"], function(Plotly) {                    window.PLOTLYENV=window.PLOTLYENV || {};                                    if (document.getElementById(\"dbd5eb53-294b-4f31-aa3e-255b2de819b8\")) {                    Plotly.newPlot(                        \"dbd5eb53-294b-4f31-aa3e-255b2de819b8\",                        [{\"alignmentgroup\":\"True\",\"hovertemplate\":\"Columns=%{x}<br>Percentage of Missing Values=%{y}<extra></extra>\",\"legendgroup\":\"\",\"marker\":{\"color\":\"red\",\"pattern\":{\"shape\":\"\"}},\"name\":\"\",\"offsetgroup\":\"\",\"orientation\":\"v\",\"showlegend\":false,\"textposition\":\"auto\",\"x\":[\"CREDIT_SCORE\",\"ANNUAL_MILEAGE\",\"AGE\",\"CHILDREN\",\"PAST_ACCIDENTS\",\"DUIS\",\"SPEEDING_VIOLATIONS\",\"VEHICLE_TYPE\",\"POSTAL_CODE\",\"MARRIED\",\"GENDER\",\"VEHICLE_YEAR\",\"VEHICLE_OWNERSHIP\",\"INCOME\",\"EDUCATION\",\"DRIVING_EXPERIENCE\",\"RACE\",\"OUTCOME\"],\"xaxis\":\"x\",\"y\":[9.82,9.57,0.0,0.0,0.0,0.0,0.0,0.0,0.0,0.0,0.0,0.0,0.0,0.0,0.0,0.0,0.0,0.0],\"yaxis\":\"y\",\"type\":\"bar\"}],                        {\"template\":{\"data\":{\"histogram2dcontour\":[{\"type\":\"histogram2dcontour\",\"colorbar\":{\"outlinewidth\":0,\"ticks\":\"\"},\"colorscale\":[[0.0,\"#0d0887\"],[0.1111111111111111,\"#46039f\"],[0.2222222222222222,\"#7201a8\"],[0.3333333333333333,\"#9c179e\"],[0.4444444444444444,\"#bd3786\"],[0.5555555555555556,\"#d8576b\"],[0.6666666666666666,\"#ed7953\"],[0.7777777777777778,\"#fb9f3a\"],[0.8888888888888888,\"#fdca26\"],[1.0,\"#f0f921\"]]}],\"choropleth\":[{\"type\":\"choropleth\",\"colorbar\":{\"outlinewidth\":0,\"ticks\":\"\"}}],\"histogram2d\":[{\"type\":\"histogram2d\",\"colorbar\":{\"outlinewidth\":0,\"ticks\":\"\"},\"colorscale\":[[0.0,\"#0d0887\"],[0.1111111111111111,\"#46039f\"],[0.2222222222222222,\"#7201a8\"],[0.3333333333333333,\"#9c179e\"],[0.4444444444444444,\"#bd3786\"],[0.5555555555555556,\"#d8576b\"],[0.6666666666666666,\"#ed7953\"],[0.7777777777777778,\"#fb9f3a\"],[0.8888888888888888,\"#fdca26\"],[1.0,\"#f0f921\"]]}],\"heatmap\":[{\"type\":\"heatmap\",\"colorbar\":{\"outlinewidth\":0,\"ticks\":\"\"},\"colorscale\":[[0.0,\"#0d0887\"],[0.1111111111111111,\"#46039f\"],[0.2222222222222222,\"#7201a8\"],[0.3333333333333333,\"#9c179e\"],[0.4444444444444444,\"#bd3786\"],[0.5555555555555556,\"#d8576b\"],[0.6666666666666666,\"#ed7953\"],[0.7777777777777778,\"#fb9f3a\"],[0.8888888888888888,\"#fdca26\"],[1.0,\"#f0f921\"]]}],\"heatmapgl\":[{\"type\":\"heatmapgl\",\"colorbar\":{\"outlinewidth\":0,\"ticks\":\"\"},\"colorscale\":[[0.0,\"#0d0887\"],[0.1111111111111111,\"#46039f\"],[0.2222222222222222,\"#7201a8\"],[0.3333333333333333,\"#9c179e\"],[0.4444444444444444,\"#bd3786\"],[0.5555555555555556,\"#d8576b\"],[0.6666666666666666,\"#ed7953\"],[0.7777777777777778,\"#fb9f3a\"],[0.8888888888888888,\"#fdca26\"],[1.0,\"#f0f921\"]]}],\"contourcarpet\":[{\"type\":\"contourcarpet\",\"colorbar\":{\"outlinewidth\":0,\"ticks\":\"\"}}],\"contour\":[{\"type\":\"contour\",\"colorbar\":{\"outlinewidth\":0,\"ticks\":\"\"},\"colorscale\":[[0.0,\"#0d0887\"],[0.1111111111111111,\"#46039f\"],[0.2222222222222222,\"#7201a8\"],[0.3333333333333333,\"#9c179e\"],[0.4444444444444444,\"#bd3786\"],[0.5555555555555556,\"#d8576b\"],[0.6666666666666666,\"#ed7953\"],[0.7777777777777778,\"#fb9f3a\"],[0.8888888888888888,\"#fdca26\"],[1.0,\"#f0f921\"]]}],\"surface\":[{\"type\":\"surface\",\"colorbar\":{\"outlinewidth\":0,\"ticks\":\"\"},\"colorscale\":[[0.0,\"#0d0887\"],[0.1111111111111111,\"#46039f\"],[0.2222222222222222,\"#7201a8\"],[0.3333333333333333,\"#9c179e\"],[0.4444444444444444,\"#bd3786\"],[0.5555555555555556,\"#d8576b\"],[0.6666666666666666,\"#ed7953\"],[0.7777777777777778,\"#fb9f3a\"],[0.8888888888888888,\"#fdca26\"],[1.0,\"#f0f921\"]]}],\"mesh3d\":[{\"type\":\"mesh3d\",\"colorbar\":{\"outlinewidth\":0,\"ticks\":\"\"}}],\"scatter\":[{\"fillpattern\":{\"fillmode\":\"overlay\",\"size\":10,\"solidity\":0.2},\"type\":\"scatter\"}],\"parcoords\":[{\"type\":\"parcoords\",\"line\":{\"colorbar\":{\"outlinewidth\":0,\"ticks\":\"\"}}}],\"scatterpolargl\":[{\"type\":\"scatterpolargl\",\"marker\":{\"colorbar\":{\"outlinewidth\":0,\"ticks\":\"\"}}}],\"bar\":[{\"error_x\":{\"color\":\"#2a3f5f\"},\"error_y\":{\"color\":\"#2a3f5f\"},\"marker\":{\"line\":{\"color\":\"#E5ECF6\",\"width\":0.5},\"pattern\":{\"fillmode\":\"overlay\",\"size\":10,\"solidity\":0.2}},\"type\":\"bar\"}],\"scattergeo\":[{\"type\":\"scattergeo\",\"marker\":{\"colorbar\":{\"outlinewidth\":0,\"ticks\":\"\"}}}],\"scatterpolar\":[{\"type\":\"scatterpolar\",\"marker\":{\"colorbar\":{\"outlinewidth\":0,\"ticks\":\"\"}}}],\"histogram\":[{\"marker\":{\"pattern\":{\"fillmode\":\"overlay\",\"size\":10,\"solidity\":0.2}},\"type\":\"histogram\"}],\"scattergl\":[{\"type\":\"scattergl\",\"marker\":{\"colorbar\":{\"outlinewidth\":0,\"ticks\":\"\"}}}],\"scatter3d\":[{\"type\":\"scatter3d\",\"line\":{\"colorbar\":{\"outlinewidth\":0,\"ticks\":\"\"}},\"marker\":{\"colorbar\":{\"outlinewidth\":0,\"ticks\":\"\"}}}],\"scattermapbox\":[{\"type\":\"scattermapbox\",\"marker\":{\"colorbar\":{\"outlinewidth\":0,\"ticks\":\"\"}}}],\"scatterternary\":[{\"type\":\"scatterternary\",\"marker\":{\"colorbar\":{\"outlinewidth\":0,\"ticks\":\"\"}}}],\"scattercarpet\":[{\"type\":\"scattercarpet\",\"marker\":{\"colorbar\":{\"outlinewidth\":0,\"ticks\":\"\"}}}],\"carpet\":[{\"aaxis\":{\"endlinecolor\":\"#2a3f5f\",\"gridcolor\":\"white\",\"linecolor\":\"white\",\"minorgridcolor\":\"white\",\"startlinecolor\":\"#2a3f5f\"},\"baxis\":{\"endlinecolor\":\"#2a3f5f\",\"gridcolor\":\"white\",\"linecolor\":\"white\",\"minorgridcolor\":\"white\",\"startlinecolor\":\"#2a3f5f\"},\"type\":\"carpet\"}],\"table\":[{\"cells\":{\"fill\":{\"color\":\"#EBF0F8\"},\"line\":{\"color\":\"white\"}},\"header\":{\"fill\":{\"color\":\"#C8D4E3\"},\"line\":{\"color\":\"white\"}},\"type\":\"table\"}],\"barpolar\":[{\"marker\":{\"line\":{\"color\":\"#E5ECF6\",\"width\":0.5},\"pattern\":{\"fillmode\":\"overlay\",\"size\":10,\"solidity\":0.2}},\"type\":\"barpolar\"}],\"pie\":[{\"automargin\":true,\"type\":\"pie\"}]},\"layout\":{\"autotypenumbers\":\"strict\",\"colorway\":[\"#636efa\",\"#EF553B\",\"#00cc96\",\"#ab63fa\",\"#FFA15A\",\"#19d3f3\",\"#FF6692\",\"#B6E880\",\"#FF97FF\",\"#FECB52\"],\"font\":{\"color\":\"#2a3f5f\"},\"hovermode\":\"closest\",\"hoverlabel\":{\"align\":\"left\"},\"paper_bgcolor\":\"white\",\"plot_bgcolor\":\"#E5ECF6\",\"polar\":{\"bgcolor\":\"#E5ECF6\",\"angularaxis\":{\"gridcolor\":\"white\",\"linecolor\":\"white\",\"ticks\":\"\"},\"radialaxis\":{\"gridcolor\":\"white\",\"linecolor\":\"white\",\"ticks\":\"\"}},\"ternary\":{\"bgcolor\":\"#E5ECF6\",\"aaxis\":{\"gridcolor\":\"white\",\"linecolor\":\"white\",\"ticks\":\"\"},\"baxis\":{\"gridcolor\":\"white\",\"linecolor\":\"white\",\"ticks\":\"\"},\"caxis\":{\"gridcolor\":\"white\",\"linecolor\":\"white\",\"ticks\":\"\"}},\"coloraxis\":{\"colorbar\":{\"outlinewidth\":0,\"ticks\":\"\"}},\"colorscale\":{\"sequential\":[[0.0,\"#0d0887\"],[0.1111111111111111,\"#46039f\"],[0.2222222222222222,\"#7201a8\"],[0.3333333333333333,\"#9c179e\"],[0.4444444444444444,\"#bd3786\"],[0.5555555555555556,\"#d8576b\"],[0.6666666666666666,\"#ed7953\"],[0.7777777777777778,\"#fb9f3a\"],[0.8888888888888888,\"#fdca26\"],[1.0,\"#f0f921\"]],\"sequentialminus\":[[0.0,\"#0d0887\"],[0.1111111111111111,\"#46039f\"],[0.2222222222222222,\"#7201a8\"],[0.3333333333333333,\"#9c179e\"],[0.4444444444444444,\"#bd3786\"],[0.5555555555555556,\"#d8576b\"],[0.6666666666666666,\"#ed7953\"],[0.7777777777777778,\"#fb9f3a\"],[0.8888888888888888,\"#fdca26\"],[1.0,\"#f0f921\"]],\"diverging\":[[0,\"#8e0152\"],[0.1,\"#c51b7d\"],[0.2,\"#de77ae\"],[0.3,\"#f1b6da\"],[0.4,\"#fde0ef\"],[0.5,\"#f7f7f7\"],[0.6,\"#e6f5d0\"],[0.7,\"#b8e186\"],[0.8,\"#7fbc41\"],[0.9,\"#4d9221\"],[1,\"#276419\"]]},\"xaxis\":{\"gridcolor\":\"white\",\"linecolor\":\"white\",\"ticks\":\"\",\"title\":{\"standoff\":15},\"zerolinecolor\":\"white\",\"automargin\":true,\"zerolinewidth\":2},\"yaxis\":{\"gridcolor\":\"white\",\"linecolor\":\"white\",\"ticks\":\"\",\"title\":{\"standoff\":15},\"zerolinecolor\":\"white\",\"automargin\":true,\"zerolinewidth\":2},\"scene\":{\"xaxis\":{\"backgroundcolor\":\"#E5ECF6\",\"gridcolor\":\"white\",\"linecolor\":\"white\",\"showbackground\":true,\"ticks\":\"\",\"zerolinecolor\":\"white\",\"gridwidth\":2},\"yaxis\":{\"backgroundcolor\":\"#E5ECF6\",\"gridcolor\":\"white\",\"linecolor\":\"white\",\"showbackground\":true,\"ticks\":\"\",\"zerolinecolor\":\"white\",\"gridwidth\":2},\"zaxis\":{\"backgroundcolor\":\"#E5ECF6\",\"gridcolor\":\"white\",\"linecolor\":\"white\",\"showbackground\":true,\"ticks\":\"\",\"zerolinecolor\":\"white\",\"gridwidth\":2}},\"shapedefaults\":{\"line\":{\"color\":\"#2a3f5f\"}},\"annotationdefaults\":{\"arrowcolor\":\"#2a3f5f\",\"arrowhead\":0,\"arrowwidth\":1},\"geo\":{\"bgcolor\":\"white\",\"landcolor\":\"#E5ECF6\",\"subunitcolor\":\"white\",\"showland\":true,\"showlakes\":true,\"lakecolor\":\"white\"},\"title\":{\"x\":0.05},\"mapbox\":{\"style\":\"light\"}}},\"xaxis\":{\"anchor\":\"y\",\"domain\":[0.0,1.0],\"title\":{\"text\":\"Columns\"}},\"yaxis\":{\"anchor\":\"x\",\"domain\":[0.0,1.0],\"title\":{\"text\":\"Percentage of Missing Values\"}},\"legend\":{\"tracegroupgap\":0},\"title\":{\"text\":\"Percentage of Missing Values\"},\"barmode\":\"relative\"},                        {\"responsive\": true}                    ).then(function(){\n",
       "                            \n",
       "var gd = document.getElementById('dbd5eb53-294b-4f31-aa3e-255b2de819b8');\n",
       "var x = new MutationObserver(function (mutations, observer) {{\n",
       "        var display = window.getComputedStyle(gd).display;\n",
       "        if (!display || display === 'none') {{\n",
       "            console.log([gd, 'removed!']);\n",
       "            Plotly.purge(gd);\n",
       "            observer.disconnect();\n",
       "        }}\n",
       "}});\n",
       "\n",
       "// Listen for the removal of the full notebook cells\n",
       "var notebookContainer = gd.closest('#notebook-container');\n",
       "if (notebookContainer) {{\n",
       "    x.observe(notebookContainer, {childList: true});\n",
       "}}\n",
       "\n",
       "// Listen for the clearing of the current output cell\n",
       "var outputEl = gd.closest('.output');\n",
       "if (outputEl) {{\n",
       "    x.observe(outputEl, {childList: true});\n",
       "}}\n",
       "\n",
       "                        })                };                });            </script>        </div>"
      ]
     },
     "metadata": {},
     "output_type": "display_data"
    }
   ],
   "source": [
    "persentage_of_missing = dtf.isnull().sum().sort_values(ascending=False) * 100 / len(dtf)\n",
    "fig = px.bar(x=persentage_of_missing.index, y=persentage_of_missing, title= \"Percentage of Missing Values\", labels={\"x\" : \"Columns\", \"y\" : \"Percentage of Missing Values\"})\n",
    "fig.update_traces(marker_color = \"red\") \n",
    "fig.show()"
   ]
  },
  {
   "cell_type": "markdown",
   "id": "1588af82",
   "metadata": {},
   "source": [
    "As we can see there two attributes we need to deal with them, \"CREDIT_SCORE\" and \"ANNUAL_MILEAGE\".\n",
    "lets check the types of the attributes"
   ]
  },
  {
   "cell_type": "code",
   "execution_count": 50,
   "id": "21266cdb",
   "metadata": {},
   "outputs": [
    {
     "data": {
      "text/plain": [
       "AGE                     object\n",
       "GENDER                  object\n",
       "RACE                    object\n",
       "DRIVING_EXPERIENCE      object\n",
       "EDUCATION               object\n",
       "INCOME                  object\n",
       "CREDIT_SCORE           float64\n",
       "VEHICLE_OWNERSHIP      float64\n",
       "VEHICLE_YEAR            object\n",
       "MARRIED                float64\n",
       "CHILDREN               float64\n",
       "POSTAL_CODE              int64\n",
       "ANNUAL_MILEAGE         float64\n",
       "VEHICLE_TYPE            object\n",
       "SPEEDING_VIOLATIONS      int64\n",
       "DUIS                     int64\n",
       "PAST_ACCIDENTS           int64\n",
       "OUTCOME                float64\n",
       "dtype: object"
      ]
     },
     "execution_count": 50,
     "metadata": {},
     "output_type": "execute_result"
    }
   ],
   "source": [
    "dtf.dtypes"
   ]
  },
  {
   "cell_type": "markdown",
   "id": "15b8dcc0",
   "metadata": {},
   "source": [
    "See the histogram of \"CREDIT_SCORE\" and \"ANNUAL_MILEAGE\"."
   ]
  },
  {
   "cell_type": "code",
   "execution_count": 51,
   "id": "dab3ea85",
   "metadata": {},
   "outputs": [
    {
     "data": {
      "text/plain": [
       "<AxesSubplot: >"
      ]
     },
     "execution_count": 51,
     "metadata": {},
     "output_type": "execute_result"
    },
    {
     "data": {
      "image/png": "[encoded data removed]",
      "text/plain": [
       "<Figure size 640x480 with 1 Axes>"
      ]
     },
     "metadata": {},
     "output_type": "display_data"
    }
   ],
   "source": [
    "dtf.CREDIT_SCORE.hist()"
   ]
  },
  {
   "cell_type": "code",
   "execution_count": 52,
   "id": "c6d69100",
   "metadata": {},
   "outputs": [
    {
     "data": {
      "text/plain": [
       "<AxesSubplot: >"
      ]
     },
     "execution_count": 52,
     "metadata": {},
     "output_type": "execute_result"
    },
    {
     "data": {
      "image/png": "[encoded data removed]",
      "text/plain": [
       "<Figure size 640x480 with 1 Axes>"
      ]
     },
     "metadata": {},
     "output_type": "display_data"
    }
   ],
   "source": [
    "dtf.ANNUAL_MILEAGE.hist()"
   ]
  },
  {
   "cell_type": "markdown",
   "id": "0fff13d5",
   "metadata": {},
   "source": [
    "Check for the correlations to the target feature \"OUTCOME\", show in table and matrix"
   ]
  },
  {
   "cell_type": "code",
   "execution_count": 53,
   "id": "3318aced",
   "metadata": {},
   "outputs": [
    {
     "data": {
      "application/vnd.plotly.v1+json": {
       "config": {
        "plotlyServerURL": "https://plot.ly"
       },
       "data": [
        {
         "text": [
          [
           1,
           0.005929432254618592,
           -0.011645498915217567,
           0.7073928023031322,
           0.15333895270242967,
           0.14533965029271,
           0.41026381297176506,
           0.2721404434189476,
           -0.23539010715426775,
           0.38475857385383117,
           0.3837080818006192,
           0.008453541241418566,
           -0.17446246098204263,
           -0.00846264571440229,
           0.45863802979075263,
           0.28193711008534456,
           0.4312918675540363,
           -0.4484628742192885
          ],
          [
           0.005929432254618592,
           1,
           -0.006710619915088595,
           0.007510697285352171,
           0.08283062721514181,
           0.012226207696360267,
           -0.06761177778197992,
           0.007385416685860878,
           -0.010673882376294266,
           0.00839287117163179,
           -0.0026402669928698675,
           -0.002093204323269863,
           -0.003920343629106427,
           -2.158304014780838E-5,
           0.20216237120241431,
           0.09420187120670256,
           0.223293018840346,
           0.10720768380886157
          ],
          [
           -0.011645498915217567,
           -0.006710619915088595,
           1,
           -0.02046103496033913,
           -0.04189678979089164,
           -1.5080269308819985E-4,
           -0.0403937968323537,
           -0.03473829664479376,
           0.020894600555896866,
           -0.021596871690267756,
           0.007575454683588888,
           0.007464775032565744,
           -0.013211096617124557,
           0.006088987267941544,
           -0.014048889319926374,
           -0.01529592133412075,
           -0.008816035624054131,
           0.00827973951354369
          ],
          [
           0.7073928023031322,
           0.007510697285352171,
           -0.02046103496033913,
           1,
           0.09411645248506963,
           0.08618097023203887,
           0.28777739540643577,
           0.20278802266816387,
           -0.16491528704125766,
           0.2699419258365413,
           0.27754586469146114,
           0.006296517846343349,
           -0.1269739174869208,
           -0.008553937123296298,
           0.6376276780130453,
           0.3993976058670041,
           0.6050374405660345,
           -0.49743104347069916
          ],
          [
           0.15333895270242967,
           0.08283062721514181,
           -0.04189678979089164,
           0.09411645248506963,
           1,
           0.07976463274416203,
           0.18119404699579225,
           0.12143166779086369,
           -0.11385720126394402,
           0.10526292608800189,
           0.07466635816674277,
           0.013007933473303958,
           -0.04995475846871275,
           4.819451716786043E-4,
           0.08152338673639543,
           0.05628575209828906,
           0.06724645022015745,
           -0.0926425468812713
          ],
          [
           0.14533965029271,
           0.012226207696360267,
           -1.5080269308819985E-4,
           0.08618097023203887,
           0.07976463274416203,
           1,
           0.07599107075045897,
           0.04608038768238168,
           -0.07139926333444464,
           0.060934809636028126,
           0.04704620896047076,
           0.019518723931466916,
           -0.04013579503794941,
           -0.012180715483549813,
           0.06161180256157985,
           0.05187824015973895,
           0.05045510531347983,
           -0.04756009003423419
          ],
          [
           0.41026381297176506,
           -0.06761177778197992,
           -0.0403937968323537,
           0.28777739540643577,
           0.18119404699579225,
           0.07599107075045897,
           1,
           0.25502208624967626,
           -0.22025398798462553,
           0.230001741612872,
           0.18573269950793747,
           0.0076361663906166005,
           -0.10030411894898131,
           -0.009544858403920015,
           0.17459546621659086,
           0.10663890159236737,
           0.1514165008880317,
           -0.27458917905774677
          ],
          [
           0.2721404434189476,
           0.007385416685860878,
           -0.03473829664479376,
           0.20278802266816387,
           0.12143166779086369,
           0.04608038768238168,
           0.25502208624967626,
           1,
           -0.15857937319344478,
           0.1756257344754016,
           0.1259895216641574,
           -0.0022410363354701994,
           -0.0553105648008431,
           0.00564702712040362,
           0.13391366581749045,
           0.08656663398053106,
           0.11955452417382163,
           -0.37892145489132706
          ],
          [
           -0.23539010715426775,
           -0.010673882376294266,
           0.020894600555896866,
           -0.16491528704125766,
           -0.11385720126394402,
           -0.07139926333444464,
           -0.22025398798462553,
           -0.15857937319344478,
           1,
           -0.12963754277024547,
           -0.10518883604036089,
           5.623108521703262E-4,
           0.05734576898565167,
           0.02518466210394593,
           -0.1028383805860813,
           -0.04998149559161604,
           -0.09762813305529078,
           0.2941779742005221
          ],
          [
           0.38475857385383117,
           0.00839287117163179,
           -0.021596871690267756,
           0.2699419258365413,
           0.10526292608800189,
           0.060934809636028126,
           0.230001741612872,
           0.1756257344754016,
           -0.12963754277024547,
           1,
           0.2870086754723886,
           0.007498466334187313,
           -0.27463946023956365,
           0.006905290032921823,
           0.21893590587919062,
           0.12083979790790073,
           0.2153522359900905,
           -0.2621036586350932
          ],
          [
           0.3837080818006192,
           -0.0026402669928698675,
           0.007575454683588888,
           0.27754586469146114,
           0.07466635816674277,
           0.04704620896047076,
           0.18573269950793747,
           0.1259895216641574,
           -0.10518883604036089,
           0.2870086754723886,
           1,
           0.023392451207878952,
           -0.2656028438563805,
           -0.008672404731915767,
           0.22052658534824388,
           0.11535439429741408,
           0.2064098798288402,
           -0.2328353691544624
          ],
          [
           0.008453541241418566,
           -0.002093204323269863,
           0.007464775032565744,
           0.006296517846343349,
           0.013007933473303958,
           0.019518723931466916,
           0.0076361663906166005,
           -0.0022410363354701994,
           5.623108521703262E-4,
           0.007498466334187313,
           0.023392451207878952,
           1,
           -0.137006355791602,
           -1.339254908177084E-4,
           0.22121660770333498,
           0.09164537900025559,
           -0.14160284854255878,
           0.1164170188595622
          ],
          [
           -0.17446246098204263,
           -0.003920343629106427,
           -0.013211096617124557,
           -0.1269739174869208,
           -0.04995475846871275,
           -0.04013579503794941,
           -0.10030411894898131,
           -0.0553105648008431,
           0.05734576898565167,
           -0.27463946023956365,
           -0.2656028438563805,
           -0.137006355791602,
           1,
           -0.01081497320636736,
           -0.20151637254571705,
           -0.07643832003510917,
           -0.13149962806409804,
           0.12465688987424285
          ],
          [
           -0.00846264571440229,
           -2.158304014780838E-5,
           0.006088987267941544,
           -0.008553937123296298,
           4.819451716786043E-4,
           -0.012180715483549813,
           -0.009544858403920015,
           0.00564702712040362,
           0.02518466210394593,
           0.006905290032921823,
           -0.008672404731915767,
           -1.339254908177084E-4,
           -0.01081497320636736,
           1,
           0.0018331436677594796,
           -0.005155920339265341,
           -0.013290159898600972,
           0.0056201074323573245
          ],
          [
           0.45863802979075263,
           0.20216237120241431,
           -0.014048889319926374,
           0.6376276780130453,
           0.08152338673639543,
           0.06161180256157985,
           0.17459546621659086,
           0.13391366581749045,
           -0.1028383805860813,
           0.21893590587919062,
           0.22052658534824388,
           0.22121660770333498,
           -0.20151637254571705,
           0.0018331436677594796,
           1,
           0.36015611860546626,
           0.44332809475457036,
           -0.29202832711428844
          ],
          [
           0.28193711008534456,
           0.09420187120670256,
           -0.01529592133412075,
           0.3993976058670041,
           0.05628575209828906,
           0.05187824015973895,
           0.10663890159236737,
           0.08656663398053106,
           -0.04998149559161604,
           0.12083979790790073,
           0.11535439429741408,
           0.09164537900025559,
           -0.07643832003510917,
           -0.005155920339265341,
           0.36015611860546626,
           1,
           0.2595481127246606,
           -0.18935217385090294
          ],
          [
           0.4312918675540363,
           0.223293018840346,
           -0.008816035624054131,
           0.6050374405660345,
           0.06724645022015745,
           0.05045510531347983,
           0.1514165008880317,
           0.11955452417382163,
           -0.09762813305529078,
           0.2153522359900905,
           0.2064098798288402,
           -0.14160284854255878,
           -0.13149962806409804,
           -0.013290159898600972,
           0.44332809475457036,
           0.2595481127246606,
           1,
           -0.31170935601129784
          ],
          [
           -0.4484628742192885,
           0.10720768380886157,
           0.00827973951354369,
           -0.49743104347069916,
           -0.0926425468812713,
           -0.04756009003423419,
           -0.27458917905774677,
           -0.37892145489132706,
           0.2941779742005221,
           -0.2621036586350932,
           -0.2328353691544624,
           0.1164170188595622,
           0.12465688987424285,
           0.0056201074323573245,
           -0.29202832711428844,
           -0.18935217385090294,
           -0.31170935601129784,
           1
          ]
         ],
         "texttemplate": "%{text:.2f}",
         "type": "heatmap",
         "x": [
          "AGE",
          "GENDER",
          "RACE",
          "DRIVING_EXPERIENCE",
          "EDUCATION",
          "INCOME",
          "CREDIT_SCORE",
          "VEHICLE_OWNERSHIP",
          "VEHICLE_YEAR",
          "MARRIED",
          "CHILDREN",
          "POSTAL_CODE",
          "ANNUAL_MILEAGE",
          "VEHICLE_TYPE",
          "SPEEDING_VIOLATIONS",
          "DUIS",
          "PAST_ACCIDENTS",
          "OUTCOME"
         ],
         "y": [
          "AGE",
          "GENDER",
          "RACE",
          "DRIVING_EXPERIENCE",
          "EDUCATION",
          "INCOME",
          "CREDIT_SCORE",
          "VEHICLE_OWNERSHIP",
          "VEHICLE_YEAR",
          "MARRIED",
          "CHILDREN",
          "POSTAL_CODE",
          "ANNUAL_MILEAGE",
          "VEHICLE_TYPE",
          "SPEEDING_VIOLATIONS",
          "DUIS",
          "PAST_ACCIDENTS",
          "OUTCOME"
         ],
         "z": [
          [
           1,
           0.005929432254618592,
           -0.011645498915217567,
           0.7073928023031322,
           0.15333895270242967,
           0.14533965029271,
           0.41026381297176506,
           0.2721404434189476,
           -0.23539010715426775,
           0.38475857385383117,
           0.3837080818006192,
           0.008453541241418566,
           -0.17446246098204263,
           -0.00846264571440229,
           0.45863802979075263,
           0.28193711008534456,
           0.4312918675540363,
           -0.4484628742192885
          ],
          [
           0.005929432254618592,
           1,
           -0.006710619915088595,
           0.007510697285352171,
           0.08283062721514181,
           0.012226207696360267,
           -0.06761177778197992,
           0.007385416685860878,
           -0.010673882376294266,
           0.00839287117163179,
           -0.0026402669928698675,
           -0.002093204323269863,
           -0.003920343629106427,
           -2.158304014780838E-5,
           0.20216237120241431,
           0.09420187120670256,
           0.223293018840346,
           0.10720768380886157
          ],
          [
           -0.011645498915217567,
           -0.006710619915088595,
           1,
           -0.02046103496033913,
           -0.04189678979089164,
           -1.5080269308819985E-4,
           -0.0403937968323537,
           -0.03473829664479376,
           0.020894600555896866,
           -0.021596871690267756,
           0.007575454683588888,
           0.007464775032565744,
           -0.013211096617124557,
           0.006088987267941544,
           -0.014048889319926374,
           -0.01529592133412075,
           -0.008816035624054131,
           0.00827973951354369
          ],
          [
           0.7073928023031322,
           0.007510697285352171,
           -0.02046103496033913,
           1,
           0.09411645248506963,
           0.08618097023203887,
           0.28777739540643577,
           0.20278802266816387,
           -0.16491528704125766,
           0.2699419258365413,
           0.27754586469146114,
           0.006296517846343349,
           -0.1269739174869208,
           -0.008553937123296298,
           0.6376276780130453,
           0.3993976058670041,
           0.6050374405660345,
           -0.49743104347069916
          ],
          [
           0.15333895270242967,
           0.08283062721514181,
           -0.04189678979089164,
           0.09411645248506963,
           1,
           0.07976463274416203,
           0.18119404699579225,
           0.12143166779086369,
           -0.11385720126394402,
           0.10526292608800189,
           0.07466635816674277,
           0.013007933473303958,
           -0.04995475846871275,
           4.819451716786043E-4,
           0.08152338673639543,
           0.05628575209828906,
           0.06724645022015745,
           -0.0926425468812713
          ],
          [
           0.14533965029271,
           0.012226207696360267,
           -1.5080269308819985E-4,
           0.08618097023203887,
           0.07976463274416203,
           1,
           0.07599107075045897,
           0.04608038768238168,
           -0.07139926333444464,
           0.060934809636028126,
           0.04704620896047076,
           0.019518723931466916,
           -0.04013579503794941,
           -0.012180715483549813,
           0.06161180256157985,
           0.05187824015973895,
           0.05045510531347983,
           -0.04756009003423419
          ],
          [
           0.41026381297176506,
           -0.06761177778197992,
           -0.0403937968323537,
           0.28777739540643577,
           0.18119404699579225,
           0.07599107075045897,
           1,
           0.25502208624967626,
           -0.22025398798462553,
           0.230001741612872,
           0.18573269950793747,
           0.0076361663906166005,
           -0.10030411894898131,
           -0.009544858403920015,
           0.17459546621659086,
           0.10663890159236737,
           0.1514165008880317,
           -0.27458917905774677
          ],
          [
           0.2721404434189476,
           0.007385416685860878,
           -0.03473829664479376,
           0.20278802266816387,
           0.12143166779086369,
           0.04608038768238168,
           0.25502208624967626,
           1,
           -0.15857937319344478,
           0.1756257344754016,
           0.1259895216641574,
           -0.0022410363354701994,
           -0.0553105648008431,
           0.00564702712040362,
           0.13391366581749045,
           0.08656663398053106,
           0.11955452417382163,
           -0.37892145489132706
          ],
          [
           -0.23539010715426775,
           -0.010673882376294266,
           0.020894600555896866,
           -0.16491528704125766,
           -0.11385720126394402,
           -0.07139926333444464,
           -0.22025398798462553,
           -0.15857937319344478,
           1,
           -0.12963754277024547,
           -0.10518883604036089,
           5.623108521703262E-4,
           0.05734576898565167,
           0.02518466210394593,
           -0.1028383805860813,
           -0.04998149559161604,
           -0.09762813305529078,
           0.2941779742005221
          ],
          [
           0.38475857385383117,
           0.00839287117163179,
           -0.021596871690267756,
           0.2699419258365413,
           0.10526292608800189,
           0.060934809636028126,
           0.230001741612872,
           0.1756257344754016,
           -0.12963754277024547,
           1,
           0.2870086754723886,
           0.007498466334187313,
           -0.27463946023956365,
           0.006905290032921823,
           0.21893590587919062,
           0.12083979790790073,
           0.2153522359900905,
           -0.2621036586350932
          ],
          [
           0.3837080818006192,
           -0.0026402669928698675,
           0.007575454683588888,
           0.27754586469146114,
           0.07466635816674277,
           0.04704620896047076,
           0.18573269950793747,
           0.1259895216641574,
           -0.10518883604036089,
           0.2870086754723886,
           1,
           0.023392451207878952,
           -0.2656028438563805,
           -0.008672404731915767,
           0.22052658534824388,
           0.11535439429741408,
           0.2064098798288402,
           -0.2328353691544624
          ],
          [
           0.008453541241418566,
           -0.002093204323269863,
           0.007464775032565744,
           0.006296517846343349,
           0.013007933473303958,
           0.019518723931466916,
           0.0076361663906166005,
           -0.0022410363354701994,
           5.623108521703262E-4,
           0.007498466334187313,
           0.023392451207878952,
           1,
           -0.137006355791602,
           -1.339254908177084E-4,
           0.22121660770333498,
           0.09164537900025559,
           -0.14160284854255878,
           0.1164170188595622
          ],
          [
           -0.17446246098204263,
           -0.003920343629106427,
           -0.013211096617124557,
           -0.1269739174869208,
           -0.04995475846871275,
           -0.04013579503794941,
           -0.10030411894898131,
           -0.0553105648008431,
           0.05734576898565167,
           -0.27463946023956365,
           -0.2656028438563805,
           -0.137006355791602,
           1,
           -0.01081497320636736,
           -0.20151637254571705,
           -0.07643832003510917,
           -0.13149962806409804,
           0.12465688987424285
          ],
          [
           -0.00846264571440229,
           -2.158304014780838E-5,
           0.006088987267941544,
           -0.008553937123296298,
           4.819451716786043E-4,
           -0.012180715483549813,
           -0.009544858403920015,
           0.00564702712040362,
           0.02518466210394593,
           0.006905290032921823,
           -0.008672404731915767,
           -1.339254908177084E-4,
           -0.01081497320636736,
           1,
           0.0018331436677594796,
           -0.005155920339265341,
           -0.013290159898600972,
           0.0056201074323573245
          ],
          [
           0.45863802979075263,
           0.20216237120241431,
           -0.014048889319926374,
           0.6376276780130453,
           0.08152338673639543,
           0.06161180256157985,
           0.17459546621659086,
           0.13391366581749045,
           -0.1028383805860813,
           0.21893590587919062,
           0.22052658534824388,
           0.22121660770333498,
           -0.20151637254571705,
           0.0018331436677594796,
           1,
           0.36015611860546626,
           0.44332809475457036,
           -0.29202832711428844
          ],
          [
           0.28193711008534456,
           0.09420187120670256,
           -0.01529592133412075,
           0.3993976058670041,
           0.05628575209828906,
           0.05187824015973895,
           0.10663890159236737,
           0.08656663398053106,
           -0.04998149559161604,
           0.12083979790790073,
           0.11535439429741408,
           0.09164537900025559,
           -0.07643832003510917,
           -0.005155920339265341,
           0.36015611860546626,
           1,
           0.2595481127246606,
           -0.18935217385090294
          ],
          [
           0.4312918675540363,
           0.223293018840346,
           -0.008816035624054131,
           0.6050374405660345,
           0.06724645022015745,
           0.05045510531347983,
           0.1514165008880317,
           0.11955452417382163,
           -0.09762813305529078,
           0.2153522359900905,
           0.2064098798288402,
           -0.14160284854255878,
           -0.13149962806409804,
           -0.013290159898600972,
           0.44332809475457036,
           0.2595481127246606,
           1,
           -0.31170935601129784
          ],
          [
           -0.4484628742192885,
           0.10720768380886157,
           0.00827973951354369,
           -0.49743104347069916,
           -0.0926425468812713,
           -0.04756009003423419,
           -0.27458917905774677,
           -0.37892145489132706,
           0.2941779742005221,
           -0.2621036586350932,
           -0.2328353691544624,
           0.1164170188595622,
           0.12465688987424285,
           0.0056201074323573245,
           -0.29202832711428844,
           -0.18935217385090294,
           -0.31170935601129784,
           1
          ]
         ]
        }
       ],
       "layout": {
        "height": 1000,
        "template": {
         "data": {
          "bar": [
           {
            "error_x": {
             "color": "#2a3f5f"
            },
            "error_y": {
             "color": "#2a3f5f"
            },
            "marker": {
             "line": {
              "color": "#E5ECF6",
              "width": 0.5
             },
             "pattern": {
              "fillmode": "overlay",
              "size": 10,
              "solidity": 0.2
             }
            },
            "type": "bar"
           }
          ],
          "barpolar": [
           {
            "marker": {
             "line": {
              "color": "#E5ECF6",
              "width": 0.5
             },
             "pattern": {
              "fillmode": "overlay",
              "size": 10,
              "solidity": 0.2
             }
            },
            "type": "barpolar"
           }
          ],
          "carpet": [
           {
            "aaxis": {
             "endlinecolor": "#2a3f5f",
             "gridcolor": "white",
             "linecolor": "white",
             "minorgridcolor": "white",
             "startlinecolor": "#2a3f5f"
            },
            "baxis": {
             "endlinecolor": "#2a3f5f",
             "gridcolor": "white",
             "linecolor": "white",
             "minorgridcolor": "white",
             "startlinecolor": "#2a3f5f"
            },
            "type": "carpet"
           }
          ],
          "choropleth": [
           {
            "colorbar": {
             "outlinewidth": 0,
             "ticks": ""
            },
            "type": "choropleth"
           }
          ],
          "contour": [
           {
            "colorbar": {
             "outlinewidth": 0,
             "ticks": ""
            },
            "colorscale": [
             [
              0,
              "#0d0887"
             ],
             [
              0.1111111111111111,
              "#46039f"
             ],
             [
              0.2222222222222222,
              "#7201a8"
             ],
             [
              0.3333333333333333,
              "#9c179e"
             ],
             [
              0.4444444444444444,
              "#bd3786"
             ],
             [
              0.5555555555555556,
              "#d8576b"
             ],
             [
              0.6666666666666666,
              "#ed7953"
             ],
             [
              0.7777777777777778,
              "#fb9f3a"
             ],
             [
              0.8888888888888888,
              "#fdca26"
             ],
             [
              1,
              "#f0f921"
             ]
            ],
            "type": "contour"
           }
          ],
          "contourcarpet": [
           {
            "colorbar": {
             "outlinewidth": 0,
             "ticks": ""
            },
            "type": "contourcarpet"
           }
          ],
          "heatmap": [
           {
            "colorbar": {
             "outlinewidth": 0,
             "ticks": ""
            },
            "colorscale": [
             [
              0,
              "#0d0887"
             ],
             [
              0.1111111111111111,
              "#46039f"
             ],
             [
              0.2222222222222222,
              "#7201a8"
             ],
             [
              0.3333333333333333,
              "#9c179e"
             ],
             [
              0.4444444444444444,
              "#bd3786"
             ],
             [
              0.5555555555555556,
              "#d8576b"
             ],
             [
              0.6666666666666666,
              "#ed7953"
             ],
             [
              0.7777777777777778,
              "#fb9f3a"
             ],
             [
              0.8888888888888888,
              "#fdca26"
             ],
             [
              1,
              "#f0f921"
             ]
            ],
            "type": "heatmap"
           }
          ],
          "heatmapgl": [
           {
            "colorbar": {
             "outlinewidth": 0,
             "ticks": ""
            },
            "colorscale": [
             [
              0,
              "#0d0887"
             ],
             [
              0.1111111111111111,
              "#46039f"
             ],
             [
              0.2222222222222222,
              "#7201a8"
             ],
             [
              0.3333333333333333,
              "#9c179e"
             ],
             [
              0.4444444444444444,
              "#bd3786"
             ],
             [
              0.5555555555555556,
              "#d8576b"
             ],
             [
              0.6666666666666666,
              "#ed7953"
             ],
             [
              0.7777777777777778,
              "#fb9f3a"
             ],
             [
              0.8888888888888888,
              "#fdca26"
             ],
             [
              1,
              "#f0f921"
             ]
            ],
            "type": "heatmapgl"
           }
          ],
          "histogram": [
           {
            "marker": {
             "pattern": {
              "fillmode": "overlay",
              "size": 10,
              "solidity": 0.2
             }
            },
            "type": "histogram"
           }
          ],
          "histogram2d": [
           {
            "colorbar": {
             "outlinewidth": 0,
             "ticks": ""
            },
            "colorscale": [
             [
              0,
              "#0d0887"
             ],
             [
              0.1111111111111111,
              "#46039f"
             ],
             [
              0.2222222222222222,
              "#7201a8"
             ],
             [
              0.3333333333333333,
              "#9c179e"
             ],
             [
              0.4444444444444444,
              "#bd3786"
             ],
             [
              0.5555555555555556,
              "#d8576b"
             ],
             [
              0.6666666666666666,
              "#ed7953"
             ],
             [
              0.7777777777777778,
              "#fb9f3a"
             ],
             [
              0.8888888888888888,
              "#fdca26"
             ],
             [
              1,
              "#f0f921"
             ]
            ],
            "type": "histogram2d"
           }
          ],
          "histogram2dcontour": [
           {
            "colorbar": {
             "outlinewidth": 0,
             "ticks": ""
            },
            "colorscale": [
             [
              0,
              "#0d0887"
             ],
             [
              0.1111111111111111,
              "#46039f"
             ],
             [
              0.2222222222222222,
              "#7201a8"
             ],
             [
              0.3333333333333333,
              "#9c179e"
             ],
             [
              0.4444444444444444,
              "#bd3786"
             ],
             [
              0.5555555555555556,
              "#d8576b"
             ],
             [
              0.6666666666666666,
              "#ed7953"
             ],
             [
              0.7777777777777778,
              "#fb9f3a"
             ],
             [
              0.8888888888888888,
              "#fdca26"
             ],
             [
              1,
              "#f0f921"
             ]
            ],
            "type": "histogram2dcontour"
           }
          ],
          "mesh3d": [
           {
            "colorbar": {
             "outlinewidth": 0,
             "ticks": ""
            },
            "type": "mesh3d"
           }
          ],
          "parcoords": [
           {
            "line": {
             "colorbar": {
              "outlinewidth": 0,
              "ticks": ""
             }
            },
            "type": "parcoords"
           }
          ],
          "pie": [
           {
            "automargin": true,
            "type": "pie"
           }
          ],
          "scatter": [
           {
            "fillpattern": {
             "fillmode": "overlay",
             "size": 10,
             "solidity": 0.2
            },
            "type": "scatter"
           }
          ],
          "scatter3d": [
           {
            "line": {
             "colorbar": {
              "outlinewidth": 0,
              "ticks": ""
             }
            },
            "marker": {
             "colorbar": {
              "outlinewidth": 0,
              "ticks": ""
             }
            },
            "type": "scatter3d"
           }
          ],
          "scattercarpet": [
           {
            "marker": {
             "colorbar": {
              "outlinewidth": 0,
              "ticks": ""
             }
            },
            "type": "scattercarpet"
           }
          ],
          "scattergeo": [
           {
            "marker": {
             "colorbar": {
              "outlinewidth": 0,
              "ticks": ""
             }
            },
            "type": "scattergeo"
           }
          ],
          "scattergl": [
           {
            "marker": {
             "colorbar": {
              "outlinewidth": 0,
              "ticks": ""
             }
            },
            "type": "scattergl"
           }
          ],
          "scattermapbox": [
           {
            "marker": {
             "colorbar": {
              "outlinewidth": 0,
              "ticks": ""
             }
            },
            "type": "scattermapbox"
           }
          ],
          "scatterpolar": [
           {
            "marker": {
             "colorbar": {
              "outlinewidth": 0,
              "ticks": ""
             }
            },
            "type": "scatterpolar"
           }
          ],
          "scatterpolargl": [
           {
            "marker": {
             "colorbar": {
              "outlinewidth": 0,
              "ticks": ""
             }
            },
            "type": "scatterpolargl"
           }
          ],
          "scatterternary": [
           {
            "marker": {
             "colorbar": {
              "outlinewidth": 0,
              "ticks": ""
             }
            },
            "type": "scatterternary"
           }
          ],
          "surface": [
           {
            "colorbar": {
             "outlinewidth": 0,
             "ticks": ""
            },
            "colorscale": [
             [
              0,
              "#0d0887"
             ],
             [
              0.1111111111111111,
              "#46039f"
             ],
             [
              0.2222222222222222,
              "#7201a8"
             ],
             [
              0.3333333333333333,
              "#9c179e"
             ],
             [
              0.4444444444444444,
              "#bd3786"
             ],
             [
              0.5555555555555556,
              "#d8576b"
             ],
             [
              0.6666666666666666,
              "#ed7953"
             ],
             [
              0.7777777777777778,
              "#fb9f3a"
             ],
             [
              0.8888888888888888,
              "#fdca26"
             ],
             [
              1,
              "#f0f921"
             ]
            ],
            "type": "surface"
           }
          ],
          "table": [
           {
            "cells": {
             "fill": {
              "color": "#EBF0F8"
             },
             "line": {
              "color": "white"
             }
            },
            "header": {
             "fill": {
              "color": "#C8D4E3"
             },
             "line": {
              "color": "white"
             }
            },
            "type": "table"
           }
          ]
         },
         "layout": {
          "annotationdefaults": {
           "arrowcolor": "#2a3f5f",
           "arrowhead": 0,
           "arrowwidth": 1
          },
          "autotypenumbers": "strict",
          "coloraxis": {
           "colorbar": {
            "outlinewidth": 0,
            "ticks": ""
           }
          },
          "colorscale": {
           "diverging": [
            [
             0,
             "#8e0152"
            ],
            [
             0.1,
             "#c51b7d"
            ],
            [
             0.2,
             "#de77ae"
            ],
            [
             0.3,
             "#f1b6da"
            ],
            [
             0.4,
             "#fde0ef"
            ],
            [
             0.5,
             "#f7f7f7"
            ],
            [
             0.6,
             "#e6f5d0"
            ],
            [
             0.7,
             "#b8e186"
            ],
            [
             0.8,
             "#7fbc41"
            ],
            [
             0.9,
             "#4d9221"
            ],
            [
             1,
             "#276419"
            ]
           ],
           "sequential": [
            [
             0,
             "#0d0887"
            ],
            [
             0.1111111111111111,
             "#46039f"
            ],
            [
             0.2222222222222222,
             "#7201a8"
            ],
            [
             0.3333333333333333,
             "#9c179e"
            ],
            [
             0.4444444444444444,
             "#bd3786"
            ],
            [
             0.5555555555555556,
             "#d8576b"
            ],
            [
             0.6666666666666666,
             "#ed7953"
            ],
            [
             0.7777777777777778,
             "#fb9f3a"
            ],
            [
             0.8888888888888888,
             "#fdca26"
            ],
            [
             1,
             "#f0f921"
            ]
           ],
           "sequentialminus": [
            [
             0,
             "#0d0887"
            ],
            [
             0.1111111111111111,
             "#46039f"
            ],
            [
             0.2222222222222222,
             "#7201a8"
            ],
            [
             0.3333333333333333,
             "#9c179e"
            ],
            [
             0.4444444444444444,
             "#bd3786"
            ],
            [
             0.5555555555555556,
             "#d8576b"
            ],
            [
             0.6666666666666666,
             "#ed7953"
            ],
            [
             0.7777777777777778,
             "#fb9f3a"
            ],
            [
             0.8888888888888888,
             "#fdca26"
            ],
            [
             1,
             "#f0f921"
            ]
           ]
          },
          "colorway": [
           "#636efa",
           "#EF553B",
           "#00cc96",
           "#ab63fa",
           "#FFA15A",
           "#19d3f3",
           "#FF6692",
           "#B6E880",
           "#FF97FF",
           "#FECB52"
          ],
          "font": {
           "color": "#2a3f5f"
          },
          "geo": {
           "bgcolor": "white",
           "lakecolor": "white",
           "landcolor": "#E5ECF6",
           "showlakes": true,
           "showland": true,
           "subunitcolor": "white"
          },
          "hoverlabel": {
           "align": "left"
          },
          "hovermode": "closest",
          "mapbox": {
           "style": "light"
          },
          "paper_bgcolor": "white",
          "plot_bgcolor": "#E5ECF6",
          "polar": {
           "angularaxis": {
            "gridcolor": "white",
            "linecolor": "white",
            "ticks": ""
           },
           "bgcolor": "#E5ECF6",
           "radialaxis": {
            "gridcolor": "white",
            "linecolor": "white",
            "ticks": ""
           }
          },
          "scene": {
           "xaxis": {
            "backgroundcolor": "#E5ECF6",
            "gridcolor": "white",
            "gridwidth": 2,
            "linecolor": "white",
            "showbackground": true,
            "ticks": "",
            "zerolinecolor": "white"
           },
           "yaxis": {
            "backgroundcolor": "#E5ECF6",
            "gridcolor": "white",
            "gridwidth": 2,
            "linecolor": "white",
            "showbackground": true,
            "ticks": "",
            "zerolinecolor": "white"
           },
           "zaxis": {
            "backgroundcolor": "#E5ECF6",
            "gridcolor": "white",
            "gridwidth": 2,
            "linecolor": "white",
            "showbackground": true,
            "ticks": "",
            "zerolinecolor": "white"
           }
          },
          "shapedefaults": {
           "line": {
            "color": "#2a3f5f"
           }
          },
          "ternary": {
           "aaxis": {
            "gridcolor": "white",
            "linecolor": "white",
            "ticks": ""
           },
           "baxis": {
            "gridcolor": "white",
            "linecolor": "white",
            "ticks": ""
           },
           "bgcolor": "#E5ECF6",
           "caxis": {
            "gridcolor": "white",
            "linecolor": "white",
            "ticks": ""
           }
          },
          "title": {
           "x": 0.05
          },
          "xaxis": {
           "automargin": true,
           "gridcolor": "white",
           "linecolor": "white",
           "ticks": "",
           "title": {
            "standoff": 15
           },
           "zerolinecolor": "white",
           "zerolinewidth": 2
          },
          "yaxis": {
           "automargin": true,
           "gridcolor": "white",
           "linecolor": "white",
           "ticks": "",
           "title": {
            "standoff": 15
           },
           "zerolinecolor": "white",
           "zerolinewidth": 2
          }
         }
        },
        "title": {
         "text": "Heatmap correlations"
        },
        "width": 1000
       }
      },
      "text/html": [
       "<div>                            <div id=\"af954443-1c2b-4a5d-a9c9-e953ba0a25a6\" class=\"plotly-graph-div\" style=\"height:1000px; width:1000px;\"></div>            <script type=\"text/javascript\">                require([\"plotly\"], function(Plotly) {                    window.PLOTLYENV=window.PLOTLYENV || {};                                    if (document.getElementById(\"af954443-1c2b-4a5d-a9c9-e953ba0a25a6\")) {                    Plotly.newPlot(                        \"af954443-1c2b-4a5d-a9c9-e953ba0a25a6\",                        [{\"text\":[[1.0,0.005929432254618592,-0.011645498915217567,0.7073928023031322,0.15333895270242967,0.14533965029271,0.41026381297176506,0.2721404434189476,-0.23539010715426775,0.38475857385383117,0.3837080818006192,0.008453541241418566,-0.17446246098204263,-0.00846264571440229,0.45863802979075263,0.28193711008534456,0.4312918675540363,-0.4484628742192885],[0.005929432254618592,1.0,-0.006710619915088595,0.007510697285352171,0.08283062721514181,0.012226207696360267,-0.06761177778197992,0.007385416685860878,-0.010673882376294266,0.00839287117163179,-0.0026402669928698675,-0.002093204323269863,-0.003920343629106427,-2.158304014780838e-05,0.20216237120241431,0.09420187120670256,0.223293018840346,0.10720768380886157],[-0.011645498915217567,-0.006710619915088595,1.0,-0.02046103496033913,-0.04189678979089164,-0.00015080269308819985,-0.0403937968323537,-0.03473829664479376,0.020894600555896866,-0.021596871690267756,0.007575454683588888,0.007464775032565744,-0.013211096617124557,0.006088987267941544,-0.014048889319926374,-0.01529592133412075,-0.008816035624054131,0.00827973951354369],[0.7073928023031322,0.007510697285352171,-0.02046103496033913,1.0,0.09411645248506963,0.08618097023203887,0.28777739540643577,0.20278802266816387,-0.16491528704125766,0.2699419258365413,0.27754586469146114,0.006296517846343349,-0.1269739174869208,-0.008553937123296298,0.6376276780130453,0.3993976058670041,0.6050374405660345,-0.49743104347069916],[0.15333895270242967,0.08283062721514181,-0.04189678979089164,0.09411645248506963,1.0,0.07976463274416203,0.18119404699579225,0.12143166779086369,-0.11385720126394402,0.10526292608800189,0.07466635816674277,0.013007933473303958,-0.04995475846871275,0.0004819451716786043,0.08152338673639543,0.05628575209828906,0.06724645022015745,-0.0926425468812713],[0.14533965029271,0.012226207696360267,-0.00015080269308819985,0.08618097023203887,0.07976463274416203,1.0,0.07599107075045897,0.04608038768238168,-0.07139926333444464,0.060934809636028126,0.04704620896047076,0.019518723931466916,-0.04013579503794941,-0.012180715483549813,0.06161180256157985,0.05187824015973895,0.05045510531347983,-0.04756009003423419],[0.41026381297176506,-0.06761177778197992,-0.0403937968323537,0.28777739540643577,0.18119404699579225,0.07599107075045897,1.0,0.25502208624967626,-0.22025398798462553,0.230001741612872,0.18573269950793747,0.0076361663906166005,-0.10030411894898131,-0.009544858403920015,0.17459546621659086,0.10663890159236737,0.1514165008880317,-0.27458917905774677],[0.2721404434189476,0.007385416685860878,-0.03473829664479376,0.20278802266816387,0.12143166779086369,0.04608038768238168,0.25502208624967626,1.0,-0.15857937319344478,0.1756257344754016,0.1259895216641574,-0.0022410363354701994,-0.0553105648008431,0.00564702712040362,0.13391366581749045,0.08656663398053106,0.11955452417382163,-0.37892145489132706],[-0.23539010715426775,-0.010673882376294266,0.020894600555896866,-0.16491528704125766,-0.11385720126394402,-0.07139926333444464,-0.22025398798462553,-0.15857937319344478,1.0,-0.12963754277024547,-0.10518883604036089,0.0005623108521703262,0.05734576898565167,0.02518466210394593,-0.1028383805860813,-0.04998149559161604,-0.09762813305529078,0.2941779742005221],[0.38475857385383117,0.00839287117163179,-0.021596871690267756,0.2699419258365413,0.10526292608800189,0.060934809636028126,0.230001741612872,0.1756257344754016,-0.12963754277024547,1.0,0.2870086754723886,0.007498466334187313,-0.27463946023956365,0.006905290032921823,0.21893590587919062,0.12083979790790073,0.2153522359900905,-0.2621036586350932],[0.3837080818006192,-0.0026402669928698675,0.007575454683588888,0.27754586469146114,0.07466635816674277,0.04704620896047076,0.18573269950793747,0.1259895216641574,-0.10518883604036089,0.2870086754723886,1.0,0.023392451207878952,-0.2656028438563805,-0.008672404731915767,0.22052658534824388,0.11535439429741408,0.2064098798288402,-0.2328353691544624],[0.008453541241418566,-0.002093204323269863,0.007464775032565744,0.006296517846343349,0.013007933473303958,0.019518723931466916,0.0076361663906166005,-0.0022410363354701994,0.0005623108521703262,0.007498466334187313,0.023392451207878952,1.0,-0.137006355791602,-0.0001339254908177084,0.22121660770333498,0.09164537900025559,-0.14160284854255878,0.1164170188595622],[-0.17446246098204263,-0.003920343629106427,-0.013211096617124557,-0.1269739174869208,-0.04995475846871275,-0.04013579503794941,-0.10030411894898131,-0.0553105648008431,0.05734576898565167,-0.27463946023956365,-0.2656028438563805,-0.137006355791602,1.0,-0.01081497320636736,-0.20151637254571705,-0.07643832003510917,-0.13149962806409804,0.12465688987424285],[-0.00846264571440229,-2.158304014780838e-05,0.006088987267941544,-0.008553937123296298,0.0004819451716786043,-0.012180715483549813,-0.009544858403920015,0.00564702712040362,0.02518466210394593,0.006905290032921823,-0.008672404731915767,-0.0001339254908177084,-0.01081497320636736,1.0,0.0018331436677594796,-0.005155920339265341,-0.013290159898600972,0.0056201074323573245],[0.45863802979075263,0.20216237120241431,-0.014048889319926374,0.6376276780130453,0.08152338673639543,0.06161180256157985,0.17459546621659086,0.13391366581749045,-0.1028383805860813,0.21893590587919062,0.22052658534824388,0.22121660770333498,-0.20151637254571705,0.0018331436677594796,1.0,0.36015611860546626,0.44332809475457036,-0.29202832711428844],[0.28193711008534456,0.09420187120670256,-0.01529592133412075,0.3993976058670041,0.05628575209828906,0.05187824015973895,0.10663890159236737,0.08656663398053106,-0.04998149559161604,0.12083979790790073,0.11535439429741408,0.09164537900025559,-0.07643832003510917,-0.005155920339265341,0.36015611860546626,1.0,0.2595481127246606,-0.18935217385090294],[0.4312918675540363,0.223293018840346,-0.008816035624054131,0.6050374405660345,0.06724645022015745,0.05045510531347983,0.1514165008880317,0.11955452417382163,-0.09762813305529078,0.2153522359900905,0.2064098798288402,-0.14160284854255878,-0.13149962806409804,-0.013290159898600972,0.44332809475457036,0.2595481127246606,1.0,-0.31170935601129784],[-0.4484628742192885,0.10720768380886157,0.00827973951354369,-0.49743104347069916,-0.0926425468812713,-0.04756009003423419,-0.27458917905774677,-0.37892145489132706,0.2941779742005221,-0.2621036586350932,-0.2328353691544624,0.1164170188595622,0.12465688987424285,0.0056201074323573245,-0.29202832711428844,-0.18935217385090294,-0.31170935601129784,1.0]],\"texttemplate\":\"%{text:.2f}\",\"x\":[\"AGE\",\"GENDER\",\"RACE\",\"DRIVING_EXPERIENCE\",\"EDUCATION\",\"INCOME\",\"CREDIT_SCORE\",\"VEHICLE_OWNERSHIP\",\"VEHICLE_YEAR\",\"MARRIED\",\"CHILDREN\",\"POSTAL_CODE\",\"ANNUAL_MILEAGE\",\"VEHICLE_TYPE\",\"SPEEDING_VIOLATIONS\",\"DUIS\",\"PAST_ACCIDENTS\",\"OUTCOME\"],\"y\":[\"AGE\",\"GENDER\",\"RACE\",\"DRIVING_EXPERIENCE\",\"EDUCATION\",\"INCOME\",\"CREDIT_SCORE\",\"VEHICLE_OWNERSHIP\",\"VEHICLE_YEAR\",\"MARRIED\",\"CHILDREN\",\"POSTAL_CODE\",\"ANNUAL_MILEAGE\",\"VEHICLE_TYPE\",\"SPEEDING_VIOLATIONS\",\"DUIS\",\"PAST_ACCIDENTS\",\"OUTCOME\"],\"z\":[[1.0,0.005929432254618592,-0.011645498915217567,0.7073928023031322,0.15333895270242967,0.14533965029271,0.41026381297176506,0.2721404434189476,-0.23539010715426775,0.38475857385383117,0.3837080818006192,0.008453541241418566,-0.17446246098204263,-0.00846264571440229,0.45863802979075263,0.28193711008534456,0.4312918675540363,-0.4484628742192885],[0.005929432254618592,1.0,-0.006710619915088595,0.007510697285352171,0.08283062721514181,0.012226207696360267,-0.06761177778197992,0.007385416685860878,-0.010673882376294266,0.00839287117163179,-0.0026402669928698675,-0.002093204323269863,-0.003920343629106427,-2.158304014780838e-05,0.20216237120241431,0.09420187120670256,0.223293018840346,0.10720768380886157],[-0.011645498915217567,-0.006710619915088595,1.0,-0.02046103496033913,-0.04189678979089164,-0.00015080269308819985,-0.0403937968323537,-0.03473829664479376,0.020894600555896866,-0.021596871690267756,0.007575454683588888,0.007464775032565744,-0.013211096617124557,0.006088987267941544,-0.014048889319926374,-0.01529592133412075,-0.008816035624054131,0.00827973951354369],[0.7073928023031322,0.007510697285352171,-0.02046103496033913,1.0,0.09411645248506963,0.08618097023203887,0.28777739540643577,0.20278802266816387,-0.16491528704125766,0.2699419258365413,0.27754586469146114,0.006296517846343349,-0.1269739174869208,-0.008553937123296298,0.6376276780130453,0.3993976058670041,0.6050374405660345,-0.49743104347069916],[0.15333895270242967,0.08283062721514181,-0.04189678979089164,0.09411645248506963,1.0,0.07976463274416203,0.18119404699579225,0.12143166779086369,-0.11385720126394402,0.10526292608800189,0.07466635816674277,0.013007933473303958,-0.04995475846871275,0.0004819451716786043,0.08152338673639543,0.05628575209828906,0.06724645022015745,-0.0926425468812713],[0.14533965029271,0.012226207696360267,-0.00015080269308819985,0.08618097023203887,0.07976463274416203,1.0,0.07599107075045897,0.04608038768238168,-0.07139926333444464,0.060934809636028126,0.04704620896047076,0.019518723931466916,-0.04013579503794941,-0.012180715483549813,0.06161180256157985,0.05187824015973895,0.05045510531347983,-0.04756009003423419],[0.41026381297176506,-0.06761177778197992,-0.0403937968323537,0.28777739540643577,0.18119404699579225,0.07599107075045897,1.0,0.25502208624967626,-0.22025398798462553,0.230001741612872,0.18573269950793747,0.0076361663906166005,-0.10030411894898131,-0.009544858403920015,0.17459546621659086,0.10663890159236737,0.1514165008880317,-0.27458917905774677],[0.2721404434189476,0.007385416685860878,-0.03473829664479376,0.20278802266816387,0.12143166779086369,0.04608038768238168,0.25502208624967626,1.0,-0.15857937319344478,0.1756257344754016,0.1259895216641574,-0.0022410363354701994,-0.0553105648008431,0.00564702712040362,0.13391366581749045,0.08656663398053106,0.11955452417382163,-0.37892145489132706],[-0.23539010715426775,-0.010673882376294266,0.020894600555896866,-0.16491528704125766,-0.11385720126394402,-0.07139926333444464,-0.22025398798462553,-0.15857937319344478,1.0,-0.12963754277024547,-0.10518883604036089,0.0005623108521703262,0.05734576898565167,0.02518466210394593,-0.1028383805860813,-0.04998149559161604,-0.09762813305529078,0.2941779742005221],[0.38475857385383117,0.00839287117163179,-0.021596871690267756,0.2699419258365413,0.10526292608800189,0.060934809636028126,0.230001741612872,0.1756257344754016,-0.12963754277024547,1.0,0.2870086754723886,0.007498466334187313,-0.27463946023956365,0.006905290032921823,0.21893590587919062,0.12083979790790073,0.2153522359900905,-0.2621036586350932],[0.3837080818006192,-0.0026402669928698675,0.007575454683588888,0.27754586469146114,0.07466635816674277,0.04704620896047076,0.18573269950793747,0.1259895216641574,-0.10518883604036089,0.2870086754723886,1.0,0.023392451207878952,-0.2656028438563805,-0.008672404731915767,0.22052658534824388,0.11535439429741408,0.2064098798288402,-0.2328353691544624],[0.008453541241418566,-0.002093204323269863,0.007464775032565744,0.006296517846343349,0.013007933473303958,0.019518723931466916,0.0076361663906166005,-0.0022410363354701994,0.0005623108521703262,0.007498466334187313,0.023392451207878952,1.0,-0.137006355791602,-0.0001339254908177084,0.22121660770333498,0.09164537900025559,-0.14160284854255878,0.1164170188595622],[-0.17446246098204263,-0.003920343629106427,-0.013211096617124557,-0.1269739174869208,-0.04995475846871275,-0.04013579503794941,-0.10030411894898131,-0.0553105648008431,0.05734576898565167,-0.27463946023956365,-0.2656028438563805,-0.137006355791602,1.0,-0.01081497320636736,-0.20151637254571705,-0.07643832003510917,-0.13149962806409804,0.12465688987424285],[-0.00846264571440229,-2.158304014780838e-05,0.006088987267941544,-0.008553937123296298,0.0004819451716786043,-0.012180715483549813,-0.009544858403920015,0.00564702712040362,0.02518466210394593,0.006905290032921823,-0.008672404731915767,-0.0001339254908177084,-0.01081497320636736,1.0,0.0018331436677594796,-0.005155920339265341,-0.013290159898600972,0.0056201074323573245],[0.45863802979075263,0.20216237120241431,-0.014048889319926374,0.6376276780130453,0.08152338673639543,0.06161180256157985,0.17459546621659086,0.13391366581749045,-0.1028383805860813,0.21893590587919062,0.22052658534824388,0.22121660770333498,-0.20151637254571705,0.0018331436677594796,1.0,0.36015611860546626,0.44332809475457036,-0.29202832711428844],[0.28193711008534456,0.09420187120670256,-0.01529592133412075,0.3993976058670041,0.05628575209828906,0.05187824015973895,0.10663890159236737,0.08656663398053106,-0.04998149559161604,0.12083979790790073,0.11535439429741408,0.09164537900025559,-0.07643832003510917,-0.005155920339265341,0.36015611860546626,1.0,0.2595481127246606,-0.18935217385090294],[0.4312918675540363,0.223293018840346,-0.008816035624054131,0.6050374405660345,0.06724645022015745,0.05045510531347983,0.1514165008880317,0.11955452417382163,-0.09762813305529078,0.2153522359900905,0.2064098798288402,-0.14160284854255878,-0.13149962806409804,-0.013290159898600972,0.44332809475457036,0.2595481127246606,1.0,-0.31170935601129784],[-0.4484628742192885,0.10720768380886157,0.00827973951354369,-0.49743104347069916,-0.0926425468812713,-0.04756009003423419,-0.27458917905774677,-0.37892145489132706,0.2941779742005221,-0.2621036586350932,-0.2328353691544624,0.1164170188595622,0.12465688987424285,0.0056201074323573245,-0.29202832711428844,-0.18935217385090294,-0.31170935601129784,1.0]],\"type\":\"heatmap\"}],                        {\"template\":{\"data\":{\"histogram2dcontour\":[{\"type\":\"histogram2dcontour\",\"colorbar\":{\"outlinewidth\":0,\"ticks\":\"\"},\"colorscale\":[[0.0,\"#0d0887\"],[0.1111111111111111,\"#46039f\"],[0.2222222222222222,\"#7201a8\"],[0.3333333333333333,\"#9c179e\"],[0.4444444444444444,\"#bd3786\"],[0.5555555555555556,\"#d8576b\"],[0.6666666666666666,\"#ed7953\"],[0.7777777777777778,\"#fb9f3a\"],[0.8888888888888888,\"#fdca26\"],[1.0,\"#f0f921\"]]}],\"choropleth\":[{\"type\":\"choropleth\",\"colorbar\":{\"outlinewidth\":0,\"ticks\":\"\"}}],\"histogram2d\":[{\"type\":\"histogram2d\",\"colorbar\":{\"outlinewidth\":0,\"ticks\":\"\"},\"colorscale\":[[0.0,\"#0d0887\"],[0.1111111111111111,\"#46039f\"],[0.2222222222222222,\"#7201a8\"],[0.3333333333333333,\"#9c179e\"],[0.4444444444444444,\"#bd3786\"],[0.5555555555555556,\"#d8576b\"],[0.6666666666666666,\"#ed7953\"],[0.7777777777777778,\"#fb9f3a\"],[0.8888888888888888,\"#fdca26\"],[1.0,\"#f0f921\"]]}],\"heatmap\":[{\"type\":\"heatmap\",\"colorbar\":{\"outlinewidth\":0,\"ticks\":\"\"},\"colorscale\":[[0.0,\"#0d0887\"],[0.1111111111111111,\"#46039f\"],[0.2222222222222222,\"#7201a8\"],[0.3333333333333333,\"#9c179e\"],[0.4444444444444444,\"#bd3786\"],[0.5555555555555556,\"#d8576b\"],[0.6666666666666666,\"#ed7953\"],[0.7777777777777778,\"#fb9f3a\"],[0.8888888888888888,\"#fdca26\"],[1.0,\"#f0f921\"]]}],\"heatmapgl\":[{\"type\":\"heatmapgl\",\"colorbar\":{\"outlinewidth\":0,\"ticks\":\"\"},\"colorscale\":[[0.0,\"#0d0887\"],[0.1111111111111111,\"#46039f\"],[0.2222222222222222,\"#7201a8\"],[0.3333333333333333,\"#9c179e\"],[0.4444444444444444,\"#bd3786\"],[0.5555555555555556,\"#d8576b\"],[0.6666666666666666,\"#ed7953\"],[0.7777777777777778,\"#fb9f3a\"],[0.8888888888888888,\"#fdca26\"],[1.0,\"#f0f921\"]]}],\"contourcarpet\":[{\"type\":\"contourcarpet\",\"colorbar\":{\"outlinewidth\":0,\"ticks\":\"\"}}],\"contour\":[{\"type\":\"contour\",\"colorbar\":{\"outlinewidth\":0,\"ticks\":\"\"},\"colorscale\":[[0.0,\"#0d0887\"],[0.1111111111111111,\"#46039f\"],[0.2222222222222222,\"#7201a8\"],[0.3333333333333333,\"#9c179e\"],[0.4444444444444444,\"#bd3786\"],[0.5555555555555556,\"#d8576b\"],[0.6666666666666666,\"#ed7953\"],[0.7777777777777778,\"#fb9f3a\"],[0.8888888888888888,\"#fdca26\"],[1.0,\"#f0f921\"]]}],\"surface\":[{\"type\":\"surface\",\"colorbar\":{\"outlinewidth\":0,\"ticks\":\"\"},\"colorscale\":[[0.0,\"#0d0887\"],[0.1111111111111111,\"#46039f\"],[0.2222222222222222,\"#7201a8\"],[0.3333333333333333,\"#9c179e\"],[0.4444444444444444,\"#bd3786\"],[0.5555555555555556,\"#d8576b\"],[0.6666666666666666,\"#ed7953\"],[0.7777777777777778,\"#fb9f3a\"],[0.8888888888888888,\"#fdca26\"],[1.0,\"#f0f921\"]]}],\"mesh3d\":[{\"type\":\"mesh3d\",\"colorbar\":{\"outlinewidth\":0,\"ticks\":\"\"}}],\"scatter\":[{\"fillpattern\":{\"fillmode\":\"overlay\",\"size\":10,\"solidity\":0.2},\"type\":\"scatter\"}],\"parcoords\":[{\"type\":\"parcoords\",\"line\":{\"colorbar\":{\"outlinewidth\":0,\"ticks\":\"\"}}}],\"scatterpolargl\":[{\"type\":\"scatterpolargl\",\"marker\":{\"colorbar\":{\"outlinewidth\":0,\"ticks\":\"\"}}}],\"bar\":[{\"error_x\":{\"color\":\"#2a3f5f\"},\"error_y\":{\"color\":\"#2a3f5f\"},\"marker\":{\"line\":{\"color\":\"#E5ECF6\",\"width\":0.5},\"pattern\":{\"fillmode\":\"overlay\",\"size\":10,\"solidity\":0.2}},\"type\":\"bar\"}],\"scattergeo\":[{\"type\":\"scattergeo\",\"marker\":{\"colorbar\":{\"outlinewidth\":0,\"ticks\":\"\"}}}],\"scatterpolar\":[{\"type\":\"scatterpolar\",\"marker\":{\"colorbar\":{\"outlinewidth\":0,\"ticks\":\"\"}}}],\"histogram\":[{\"marker\":{\"pattern\":{\"fillmode\":\"overlay\",\"size\":10,\"solidity\":0.2}},\"type\":\"histogram\"}],\"scattergl\":[{\"type\":\"scattergl\",\"marker\":{\"colorbar\":{\"outlinewidth\":0,\"ticks\":\"\"}}}],\"scatter3d\":[{\"type\":\"scatter3d\",\"line\":{\"colorbar\":{\"outlinewidth\":0,\"ticks\":\"\"}},\"marker\":{\"colorbar\":{\"outlinewidth\":0,\"ticks\":\"\"}}}],\"scattermapbox\":[{\"type\":\"scattermapbox\",\"marker\":{\"colorbar\":{\"outlinewidth\":0,\"ticks\":\"\"}}}],\"scatterternary\":[{\"type\":\"scatterternary\",\"marker\":{\"colorbar\":{\"outlinewidth\":0,\"ticks\":\"\"}}}],\"scattercarpet\":[{\"type\":\"scattercarpet\",\"marker\":{\"colorbar\":{\"outlinewidth\":0,\"ticks\":\"\"}}}],\"carpet\":[{\"aaxis\":{\"endlinecolor\":\"#2a3f5f\",\"gridcolor\":\"white\",\"linecolor\":\"white\",\"minorgridcolor\":\"white\",\"startlinecolor\":\"#2a3f5f\"},\"baxis\":{\"endlinecolor\":\"#2a3f5f\",\"gridcolor\":\"white\",\"linecolor\":\"white\",\"minorgridcolor\":\"white\",\"startlinecolor\":\"#2a3f5f\"},\"type\":\"carpet\"}],\"table\":[{\"cells\":{\"fill\":{\"color\":\"#EBF0F8\"},\"line\":{\"color\":\"white\"}},\"header\":{\"fill\":{\"color\":\"#C8D4E3\"},\"line\":{\"color\":\"white\"}},\"type\":\"table\"}],\"barpolar\":[{\"marker\":{\"line\":{\"color\":\"#E5ECF6\",\"width\":0.5},\"pattern\":{\"fillmode\":\"overlay\",\"size\":10,\"solidity\":0.2}},\"type\":\"barpolar\"}],\"pie\":[{\"automargin\":true,\"type\":\"pie\"}]},\"layout\":{\"autotypenumbers\":\"strict\",\"colorway\":[\"#636efa\",\"#EF553B\",\"#00cc96\",\"#ab63fa\",\"#FFA15A\",\"#19d3f3\",\"#FF6692\",\"#B6E880\",\"#FF97FF\",\"#FECB52\"],\"font\":{\"color\":\"#2a3f5f\"},\"hovermode\":\"closest\",\"hoverlabel\":{\"align\":\"left\"},\"paper_bgcolor\":\"white\",\"plot_bgcolor\":\"#E5ECF6\",\"polar\":{\"bgcolor\":\"#E5ECF6\",\"angularaxis\":{\"gridcolor\":\"white\",\"linecolor\":\"white\",\"ticks\":\"\"},\"radialaxis\":{\"gridcolor\":\"white\",\"linecolor\":\"white\",\"ticks\":\"\"}},\"ternary\":{\"bgcolor\":\"#E5ECF6\",\"aaxis\":{\"gridcolor\":\"white\",\"linecolor\":\"white\",\"ticks\":\"\"},\"baxis\":{\"gridcolor\":\"white\",\"linecolor\":\"white\",\"ticks\":\"\"},\"caxis\":{\"gridcolor\":\"white\",\"linecolor\":\"white\",\"ticks\":\"\"}},\"coloraxis\":{\"colorbar\":{\"outlinewidth\":0,\"ticks\":\"\"}},\"colorscale\":{\"sequential\":[[0.0,\"#0d0887\"],[0.1111111111111111,\"#46039f\"],[0.2222222222222222,\"#7201a8\"],[0.3333333333333333,\"#9c179e\"],[0.4444444444444444,\"#bd3786\"],[0.5555555555555556,\"#d8576b\"],[0.6666666666666666,\"#ed7953\"],[0.7777777777777778,\"#fb9f3a\"],[0.8888888888888888,\"#fdca26\"],[1.0,\"#f0f921\"]],\"sequentialminus\":[[0.0,\"#0d0887\"],[0.1111111111111111,\"#46039f\"],[0.2222222222222222,\"#7201a8\"],[0.3333333333333333,\"#9c179e\"],[0.4444444444444444,\"#bd3786\"],[0.5555555555555556,\"#d8576b\"],[0.6666666666666666,\"#ed7953\"],[0.7777777777777778,\"#fb9f3a\"],[0.8888888888888888,\"#fdca26\"],[1.0,\"#f0f921\"]],\"diverging\":[[0,\"#8e0152\"],[0.1,\"#c51b7d\"],[0.2,\"#de77ae\"],[0.3,\"#f1b6da\"],[0.4,\"#fde0ef\"],[0.5,\"#f7f7f7\"],[0.6,\"#e6f5d0\"],[0.7,\"#b8e186\"],[0.8,\"#7fbc41\"],[0.9,\"#4d9221\"],[1,\"#276419\"]]},\"xaxis\":{\"gridcolor\":\"white\",\"linecolor\":\"white\",\"ticks\":\"\",\"title\":{\"standoff\":15},\"zerolinecolor\":\"white\",\"automargin\":true,\"zerolinewidth\":2},\"yaxis\":{\"gridcolor\":\"white\",\"linecolor\":\"white\",\"ticks\":\"\",\"title\":{\"standoff\":15},\"zerolinecolor\":\"white\",\"automargin\":true,\"zerolinewidth\":2},\"scene\":{\"xaxis\":{\"backgroundcolor\":\"#E5ECF6\",\"gridcolor\":\"white\",\"linecolor\":\"white\",\"showbackground\":true,\"ticks\":\"\",\"zerolinecolor\":\"white\",\"gridwidth\":2},\"yaxis\":{\"backgroundcolor\":\"#E5ECF6\",\"gridcolor\":\"white\",\"linecolor\":\"white\",\"showbackground\":true,\"ticks\":\"\",\"zerolinecolor\":\"white\",\"gridwidth\":2},\"zaxis\":{\"backgroundcolor\":\"#E5ECF6\",\"gridcolor\":\"white\",\"linecolor\":\"white\",\"showbackground\":true,\"ticks\":\"\",\"zerolinecolor\":\"white\",\"gridwidth\":2}},\"shapedefaults\":{\"line\":{\"color\":\"#2a3f5f\"}},\"annotationdefaults\":{\"arrowcolor\":\"#2a3f5f\",\"arrowhead\":0,\"arrowwidth\":1},\"geo\":{\"bgcolor\":\"white\",\"landcolor\":\"#E5ECF6\",\"subunitcolor\":\"white\",\"showland\":true,\"showlakes\":true,\"lakecolor\":\"white\"},\"title\":{\"x\":0.05},\"mapbox\":{\"style\":\"light\"}}},\"width\":1000,\"height\":1000,\"title\":{\"text\":\"Heatmap correlations\"}},                        {\"responsive\": true}                    ).then(function(){\n",
       "                            \n",
       "var gd = document.getElementById('af954443-1c2b-4a5d-a9c9-e953ba0a25a6');\n",
       "var x = new MutationObserver(function (mutations, observer) {{\n",
       "        var display = window.getComputedStyle(gd).display;\n",
       "        if (!display || display === 'none') {{\n",
       "            console.log([gd, 'removed!']);\n",
       "            Plotly.purge(gd);\n",
       "            observer.disconnect();\n",
       "        }}\n",
       "}});\n",
       "\n",
       "// Listen for the removal of the full notebook cells\n",
       "var notebookContainer = gd.closest('#notebook-container');\n",
       "if (notebookContainer) {{\n",
       "    x.observe(notebookContainer, {childList: true});\n",
       "}}\n",
       "\n",
       "// Listen for the clearing of the current output cell\n",
       "var outputEl = gd.closest('.output');\n",
       "if (outputEl) {{\n",
       "    x.observe(outputEl, {childList: true});\n",
       "}}\n",
       "\n",
       "                        })                };                });            </script>        </div>"
      ]
     },
     "metadata": {},
     "output_type": "display_data"
    },
    {
     "data": {
      "text/html": [
       "<div>\n",
       "<style scoped>\n",
       "    .dataframe tbody tr th:only-of-type {\n",
       "        vertical-align: middle;\n",
       "    }\n",
       "\n",
       "    .dataframe tbody tr th {\n",
       "        vertical-align: top;\n",
       "    }\n",
       "\n",
       "    .dataframe thead th {\n",
       "        text-align: right;\n",
       "    }\n",
       "</style>\n",
       "<table border=\"1\" class=\"dataframe\">\n",
       "  <thead>\n",
       "    <tr style=\"text-align: right;\">\n",
       "      <th></th>\n",
       "      <th>AGE</th>\n",
       "      <th>GENDER</th>\n",
       "      <th>RACE</th>\n",
       "      <th>DRIVING_EXPERIENCE</th>\n",
       "      <th>EDUCATION</th>\n",
       "      <th>INCOME</th>\n",
       "      <th>CREDIT_SCORE</th>\n",
       "      <th>VEHICLE_OWNERSHIP</th>\n",
       "      <th>VEHICLE_YEAR</th>\n",
       "      <th>MARRIED</th>\n",
       "      <th>CHILDREN</th>\n",
       "      <th>POSTAL_CODE</th>\n",
       "      <th>ANNUAL_MILEAGE</th>\n",
       "      <th>VEHICLE_TYPE</th>\n",
       "      <th>SPEEDING_VIOLATIONS</th>\n",
       "      <th>DUIS</th>\n",
       "      <th>PAST_ACCIDENTS</th>\n",
       "      <th>OUTCOME</th>\n",
       "    </tr>\n",
       "  </thead>\n",
       "  <tbody>\n",
       "    <tr>\n",
       "      <th>AGE</th>\n",
       "      <td>1.000000</td>\n",
       "      <td>0.005929</td>\n",
       "      <td>-0.011645</td>\n",
       "      <td>0.707393</td>\n",
       "      <td>0.153339</td>\n",
       "      <td>0.145340</td>\n",
       "      <td>0.410264</td>\n",
       "      <td>0.272140</td>\n",
       "      <td>-0.235390</td>\n",
       "      <td>0.384759</td>\n",
       "      <td>0.383708</td>\n",
       "      <td>0.008454</td>\n",
       "      <td>-0.174462</td>\n",
       "      <td>-0.008463</td>\n",
       "      <td>0.458638</td>\n",
       "      <td>0.281937</td>\n",
       "      <td>0.431292</td>\n",
       "      <td>-0.448463</td>\n",
       "    </tr>\n",
       "    <tr>\n",
       "      <th>GENDER</th>\n",
       "      <td>0.005929</td>\n",
       "      <td>1.000000</td>\n",
       "      <td>-0.006711</td>\n",
       "      <td>0.007511</td>\n",
       "      <td>0.082831</td>\n",
       "      <td>0.012226</td>\n",
       "      <td>-0.067612</td>\n",
       "      <td>0.007385</td>\n",
       "      <td>-0.010674</td>\n",
       "      <td>0.008393</td>\n",
       "      <td>-0.002640</td>\n",
       "      <td>-0.002093</td>\n",
       "      <td>-0.003920</td>\n",
       "      <td>-0.000022</td>\n",
       "      <td>0.202162</td>\n",
       "      <td>0.094202</td>\n",
       "      <td>0.223293</td>\n",
       "      <td>0.107208</td>\n",
       "    </tr>\n",
       "    <tr>\n",
       "      <th>RACE</th>\n",
       "      <td>-0.011645</td>\n",
       "      <td>-0.006711</td>\n",
       "      <td>1.000000</td>\n",
       "      <td>-0.020461</td>\n",
       "      <td>-0.041897</td>\n",
       "      <td>-0.000151</td>\n",
       "      <td>-0.040394</td>\n",
       "      <td>-0.034738</td>\n",
       "      <td>0.020895</td>\n",
       "      <td>-0.021597</td>\n",
       "      <td>0.007575</td>\n",
       "      <td>0.007465</td>\n",
       "      <td>-0.013211</td>\n",
       "      <td>0.006089</td>\n",
       "      <td>-0.014049</td>\n",
       "      <td>-0.015296</td>\n",
       "      <td>-0.008816</td>\n",
       "      <td>0.008280</td>\n",
       "    </tr>\n",
       "    <tr>\n",
       "      <th>DRIVING_EXPERIENCE</th>\n",
       "      <td>0.707393</td>\n",
       "      <td>0.007511</td>\n",
       "      <td>-0.020461</td>\n",
       "      <td>1.000000</td>\n",
       "      <td>0.094116</td>\n",
       "      <td>0.086181</td>\n",
       "      <td>0.287777</td>\n",
       "      <td>0.202788</td>\n",
       "      <td>-0.164915</td>\n",
       "      <td>0.269942</td>\n",
       "      <td>0.277546</td>\n",
       "      <td>0.006297</td>\n",
       "      <td>-0.126974</td>\n",
       "      <td>-0.008554</td>\n",
       "      <td>0.637628</td>\n",
       "      <td>0.399398</td>\n",
       "      <td>0.605037</td>\n",
       "      <td>-0.497431</td>\n",
       "    </tr>\n",
       "    <tr>\n",
       "      <th>EDUCATION</th>\n",
       "      <td>0.153339</td>\n",
       "      <td>0.082831</td>\n",
       "      <td>-0.041897</td>\n",
       "      <td>0.094116</td>\n",
       "      <td>1.000000</td>\n",
       "      <td>0.079765</td>\n",
       "      <td>0.181194</td>\n",
       "      <td>0.121432</td>\n",
       "      <td>-0.113857</td>\n",
       "      <td>0.105263</td>\n",
       "      <td>0.074666</td>\n",
       "      <td>0.013008</td>\n",
       "      <td>-0.049955</td>\n",
       "      <td>0.000482</td>\n",
       "      <td>0.081523</td>\n",
       "      <td>0.056286</td>\n",
       "      <td>0.067246</td>\n",
       "      <td>-0.092643</td>\n",
       "    </tr>\n",
       "    <tr>\n",
       "      <th>INCOME</th>\n",
       "      <td>0.145340</td>\n",
       "      <td>0.012226</td>\n",
       "      <td>-0.000151</td>\n",
       "      <td>0.086181</td>\n",
       "      <td>0.079765</td>\n",
       "      <td>1.000000</td>\n",
       "      <td>0.075991</td>\n",
       "      <td>0.046080</td>\n",
       "      <td>-0.071399</td>\n",
       "      <td>0.060935</td>\n",
       "      <td>0.047046</td>\n",
       "      <td>0.019519</td>\n",
       "      <td>-0.040136</td>\n",
       "      <td>-0.012181</td>\n",
       "      <td>0.061612</td>\n",
       "      <td>0.051878</td>\n",
       "      <td>0.050455</td>\n",
       "      <td>-0.047560</td>\n",
       "    </tr>\n",
       "    <tr>\n",
       "      <th>CREDIT_SCORE</th>\n",
       "      <td>0.410264</td>\n",
       "      <td>-0.067612</td>\n",
       "      <td>-0.040394</td>\n",
       "      <td>0.287777</td>\n",
       "      <td>0.181194</td>\n",
       "      <td>0.075991</td>\n",
       "      <td>1.000000</td>\n",
       "      <td>0.255022</td>\n",
       "      <td>-0.220254</td>\n",
       "      <td>0.230002</td>\n",
       "      <td>0.185733</td>\n",
       "      <td>0.007636</td>\n",
       "      <td>-0.100304</td>\n",
       "      <td>-0.009545</td>\n",
       "      <td>0.174595</td>\n",
       "      <td>0.106639</td>\n",
       "      <td>0.151417</td>\n",
       "      <td>-0.274589</td>\n",
       "    </tr>\n",
       "    <tr>\n",
       "      <th>VEHICLE_OWNERSHIP</th>\n",
       "      <td>0.272140</td>\n",
       "      <td>0.007385</td>\n",
       "      <td>-0.034738</td>\n",
       "      <td>0.202788</td>\n",
       "      <td>0.121432</td>\n",
       "      <td>0.046080</td>\n",
       "      <td>0.255022</td>\n",
       "      <td>1.000000</td>\n",
       "      <td>-0.158579</td>\n",
       "      <td>0.175626</td>\n",
       "      <td>0.125990</td>\n",
       "      <td>-0.002241</td>\n",
       "      <td>-0.055311</td>\n",
       "      <td>0.005647</td>\n",
       "      <td>0.133914</td>\n",
       "      <td>0.086567</td>\n",
       "      <td>0.119555</td>\n",
       "      <td>-0.378921</td>\n",
       "    </tr>\n",
       "    <tr>\n",
       "      <th>VEHICLE_YEAR</th>\n",
       "      <td>-0.235390</td>\n",
       "      <td>-0.010674</td>\n",
       "      <td>0.020895</td>\n",
       "      <td>-0.164915</td>\n",
       "      <td>-0.113857</td>\n",
       "      <td>-0.071399</td>\n",
       "      <td>-0.220254</td>\n",
       "      <td>-0.158579</td>\n",
       "      <td>1.000000</td>\n",
       "      <td>-0.129638</td>\n",
       "      <td>-0.105189</td>\n",
       "      <td>0.000562</td>\n",
       "      <td>0.057346</td>\n",
       "      <td>0.025185</td>\n",
       "      <td>-0.102838</td>\n",
       "      <td>-0.049981</td>\n",
       "      <td>-0.097628</td>\n",
       "      <td>0.294178</td>\n",
       "    </tr>\n",
       "    <tr>\n",
       "      <th>MARRIED</th>\n",
       "      <td>0.384759</td>\n",
       "      <td>0.008393</td>\n",
       "      <td>-0.021597</td>\n",
       "      <td>0.269942</td>\n",
       "      <td>0.105263</td>\n",
       "      <td>0.060935</td>\n",
       "      <td>0.230002</td>\n",
       "      <td>0.175626</td>\n",
       "      <td>-0.129638</td>\n",
       "      <td>1.000000</td>\n",
       "      <td>0.287009</td>\n",
       "      <td>0.007498</td>\n",
       "      <td>-0.274639</td>\n",
       "      <td>0.006905</td>\n",
       "      <td>0.218936</td>\n",
       "      <td>0.120840</td>\n",
       "      <td>0.215352</td>\n",
       "      <td>-0.262104</td>\n",
       "    </tr>\n",
       "    <tr>\n",
       "      <th>CHILDREN</th>\n",
       "      <td>0.383708</td>\n",
       "      <td>-0.002640</td>\n",
       "      <td>0.007575</td>\n",
       "      <td>0.277546</td>\n",
       "      <td>0.074666</td>\n",
       "      <td>0.047046</td>\n",
       "      <td>0.185733</td>\n",
       "      <td>0.125990</td>\n",
       "      <td>-0.105189</td>\n",
       "      <td>0.287009</td>\n",
       "      <td>1.000000</td>\n",
       "      <td>0.023392</td>\n",
       "      <td>-0.265603</td>\n",
       "      <td>-0.008672</td>\n",
       "      <td>0.220527</td>\n",
       "      <td>0.115354</td>\n",
       "      <td>0.206410</td>\n",
       "      <td>-0.232835</td>\n",
       "    </tr>\n",
       "    <tr>\n",
       "      <th>POSTAL_CODE</th>\n",
       "      <td>0.008454</td>\n",
       "      <td>-0.002093</td>\n",
       "      <td>0.007465</td>\n",
       "      <td>0.006297</td>\n",
       "      <td>0.013008</td>\n",
       "      <td>0.019519</td>\n",
       "      <td>0.007636</td>\n",
       "      <td>-0.002241</td>\n",
       "      <td>0.000562</td>\n",
       "      <td>0.007498</td>\n",
       "      <td>0.023392</td>\n",
       "      <td>1.000000</td>\n",
       "      <td>-0.137006</td>\n",
       "      <td>-0.000134</td>\n",
       "      <td>0.221217</td>\n",
       "      <td>0.091645</td>\n",
       "      <td>-0.141603</td>\n",
       "      <td>0.116417</td>\n",
       "    </tr>\n",
       "    <tr>\n",
       "      <th>ANNUAL_MILEAGE</th>\n",
       "      <td>-0.174462</td>\n",
       "      <td>-0.003920</td>\n",
       "      <td>-0.013211</td>\n",
       "      <td>-0.126974</td>\n",
       "      <td>-0.049955</td>\n",
       "      <td>-0.040136</td>\n",
       "      <td>-0.100304</td>\n",
       "      <td>-0.055311</td>\n",
       "      <td>0.057346</td>\n",
       "      <td>-0.274639</td>\n",
       "      <td>-0.265603</td>\n",
       "      <td>-0.137006</td>\n",
       "      <td>1.000000</td>\n",
       "      <td>-0.010815</td>\n",
       "      <td>-0.201516</td>\n",
       "      <td>-0.076438</td>\n",
       "      <td>-0.131500</td>\n",
       "      <td>0.124657</td>\n",
       "    </tr>\n",
       "    <tr>\n",
       "      <th>VEHICLE_TYPE</th>\n",
       "      <td>-0.008463</td>\n",
       "      <td>-0.000022</td>\n",
       "      <td>0.006089</td>\n",
       "      <td>-0.008554</td>\n",
       "      <td>0.000482</td>\n",
       "      <td>-0.012181</td>\n",
       "      <td>-0.009545</td>\n",
       "      <td>0.005647</td>\n",
       "      <td>0.025185</td>\n",
       "      <td>0.006905</td>\n",
       "      <td>-0.008672</td>\n",
       "      <td>-0.000134</td>\n",
       "      <td>-0.010815</td>\n",
       "      <td>1.000000</td>\n",
       "      <td>0.001833</td>\n",
       "      <td>-0.005156</td>\n",
       "      <td>-0.013290</td>\n",
       "      <td>0.005620</td>\n",
       "    </tr>\n",
       "    <tr>\n",
       "      <th>SPEEDING_VIOLATIONS</th>\n",
       "      <td>0.458638</td>\n",
       "      <td>0.202162</td>\n",
       "      <td>-0.014049</td>\n",
       "      <td>0.637628</td>\n",
       "      <td>0.081523</td>\n",
       "      <td>0.061612</td>\n",
       "      <td>0.174595</td>\n",
       "      <td>0.133914</td>\n",
       "      <td>-0.102838</td>\n",
       "      <td>0.218936</td>\n",
       "      <td>0.220527</td>\n",
       "      <td>0.221217</td>\n",
       "      <td>-0.201516</td>\n",
       "      <td>0.001833</td>\n",
       "      <td>1.000000</td>\n",
       "      <td>0.360156</td>\n",
       "      <td>0.443328</td>\n",
       "      <td>-0.292028</td>\n",
       "    </tr>\n",
       "    <tr>\n",
       "      <th>DUIS</th>\n",
       "      <td>0.281937</td>\n",
       "      <td>0.094202</td>\n",
       "      <td>-0.015296</td>\n",
       "      <td>0.399398</td>\n",
       "      <td>0.056286</td>\n",
       "      <td>0.051878</td>\n",
       "      <td>0.106639</td>\n",
       "      <td>0.086567</td>\n",
       "      <td>-0.049981</td>\n",
       "      <td>0.120840</td>\n",
       "      <td>0.115354</td>\n",
       "      <td>0.091645</td>\n",
       "      <td>-0.076438</td>\n",
       "      <td>-0.005156</td>\n",
       "      <td>0.360156</td>\n",
       "      <td>1.000000</td>\n",
       "      <td>0.259548</td>\n",
       "      <td>-0.189352</td>\n",
       "    </tr>\n",
       "    <tr>\n",
       "      <th>PAST_ACCIDENTS</th>\n",
       "      <td>0.431292</td>\n",
       "      <td>0.223293</td>\n",
       "      <td>-0.008816</td>\n",
       "      <td>0.605037</td>\n",
       "      <td>0.067246</td>\n",
       "      <td>0.050455</td>\n",
       "      <td>0.151417</td>\n",
       "      <td>0.119555</td>\n",
       "      <td>-0.097628</td>\n",
       "      <td>0.215352</td>\n",
       "      <td>0.206410</td>\n",
       "      <td>-0.141603</td>\n",
       "      <td>-0.131500</td>\n",
       "      <td>-0.013290</td>\n",
       "      <td>0.443328</td>\n",
       "      <td>0.259548</td>\n",
       "      <td>1.000000</td>\n",
       "      <td>-0.311709</td>\n",
       "    </tr>\n",
       "    <tr>\n",
       "      <th>OUTCOME</th>\n",
       "      <td>-0.448463</td>\n",
       "      <td>0.107208</td>\n",
       "      <td>0.008280</td>\n",
       "      <td>-0.497431</td>\n",
       "      <td>-0.092643</td>\n",
       "      <td>-0.047560</td>\n",
       "      <td>-0.274589</td>\n",
       "      <td>-0.378921</td>\n",
       "      <td>0.294178</td>\n",
       "      <td>-0.262104</td>\n",
       "      <td>-0.232835</td>\n",
       "      <td>0.116417</td>\n",
       "      <td>0.124657</td>\n",
       "      <td>0.005620</td>\n",
       "      <td>-0.292028</td>\n",
       "      <td>-0.189352</td>\n",
       "      <td>-0.311709</td>\n",
       "      <td>1.000000</td>\n",
       "    </tr>\n",
       "  </tbody>\n",
       "</table>\n",
       "</div>"
      ],
      "text/plain": [
       "                          AGE    GENDER      RACE  DRIVING_EXPERIENCE  \\\n",
       "AGE                  1.000000  0.005929 -0.011645            0.707393   \n",
       "GENDER               0.005929  1.000000 -0.006711            0.007511   \n",
       "RACE                -0.011645 -0.006711  1.000000           -0.020461   \n",
       "DRIVING_EXPERIENCE   0.707393  0.007511 -0.020461            1.000000   \n",
       "EDUCATION            0.153339  0.082831 -0.041897            0.094116   \n",
       "INCOME               0.145340  0.012226 -0.000151            0.086181   \n",
       "CREDIT_SCORE         0.410264 -0.067612 -0.040394            0.287777   \n",
       "VEHICLE_OWNERSHIP    0.272140  0.007385 -0.034738            0.202788   \n",
       "VEHICLE_YEAR        -0.235390 -0.010674  0.020895           -0.164915   \n",
       "MARRIED              0.384759  0.008393 -0.021597            0.269942   \n",
       "CHILDREN             0.383708 -0.002640  0.007575            0.277546   \n",
       "POSTAL_CODE          0.008454 -0.002093  0.007465            0.006297   \n",
       "ANNUAL_MILEAGE      -0.174462 -0.003920 -0.013211           -0.126974   \n",
       "VEHICLE_TYPE        -0.008463 -0.000022  0.006089           -0.008554   \n",
       "SPEEDING_VIOLATIONS  0.458638  0.202162 -0.014049            0.637628   \n",
       "DUIS                 0.281937  0.094202 -0.015296            0.399398   \n",
       "PAST_ACCIDENTS       0.431292  0.223293 -0.008816            0.605037   \n",
       "OUTCOME             -0.448463  0.107208  0.008280           -0.497431   \n",
       "\n",
       "                     EDUCATION    INCOME  CREDIT_SCORE  VEHICLE_OWNERSHIP  \\\n",
       "AGE                   0.153339  0.145340      0.410264           0.272140   \n",
       "GENDER                0.082831  0.012226     -0.067612           0.007385   \n",
       "RACE                 -0.041897 -0.000151     -0.040394          -0.034738   \n",
       "DRIVING_EXPERIENCE    0.094116  0.086181      0.287777           0.202788   \n",
       "EDUCATION             1.000000  0.079765      0.181194           0.121432   \n",
       "INCOME                0.079765  1.000000      0.075991           0.046080   \n",
       "CREDIT_SCORE          0.181194  0.075991      1.000000           0.255022   \n",
       "VEHICLE_OWNERSHIP     0.121432  0.046080      0.255022           1.000000   \n",
       "VEHICLE_YEAR         -0.113857 -0.071399     -0.220254          -0.158579   \n",
       "MARRIED               0.105263  0.060935      0.230002           0.175626   \n",
       "CHILDREN              0.074666  0.047046      0.185733           0.125990   \n",
       "POSTAL_CODE           0.013008  0.019519      0.007636          -0.002241   \n",
       "ANNUAL_MILEAGE       -0.049955 -0.040136     -0.100304          -0.055311   \n",
       "VEHICLE_TYPE          0.000482 -0.012181     -0.009545           0.005647   \n",
       "SPEEDING_VIOLATIONS   0.081523  0.061612      0.174595           0.133914   \n",
       "DUIS                  0.056286  0.051878      0.106639           0.086567   \n",
       "PAST_ACCIDENTS        0.067246  0.050455      0.151417           0.119555   \n",
       "OUTCOME              -0.092643 -0.047560     -0.274589          -0.378921   \n",
       "\n",
       "                     VEHICLE_YEAR   MARRIED  CHILDREN  POSTAL_CODE  \\\n",
       "AGE                     -0.235390  0.384759  0.383708     0.008454   \n",
       "GENDER                  -0.010674  0.008393 -0.002640    -0.002093   \n",
       "RACE                     0.020895 -0.021597  0.007575     0.007465   \n",
       "DRIVING_EXPERIENCE      -0.164915  0.269942  0.277546     0.006297   \n",
       "EDUCATION               -0.113857  0.105263  0.074666     0.013008   \n",
       "INCOME                  -0.071399  0.060935  0.047046     0.019519   \n",
       "CREDIT_SCORE            -0.220254  0.230002  0.185733     0.007636   \n",
       "VEHICLE_OWNERSHIP       -0.158579  0.175626  0.125990    -0.002241   \n",
       "VEHICLE_YEAR             1.000000 -0.129638 -0.105189     0.000562   \n",
       "MARRIED                 -0.129638  1.000000  0.287009     0.007498   \n",
       "CHILDREN                -0.105189  0.287009  1.000000     0.023392   \n",
       "POSTAL_CODE              0.000562  0.007498  0.023392     1.000000   \n",
       "ANNUAL_MILEAGE           0.057346 -0.274639 -0.265603    -0.137006   \n",
       "VEHICLE_TYPE             0.025185  0.006905 -0.008672    -0.000134   \n",
       "SPEEDING_VIOLATIONS     -0.102838  0.218936  0.220527     0.221217   \n",
       "DUIS                    -0.049981  0.120840  0.115354     0.091645   \n",
       "PAST_ACCIDENTS          -0.097628  0.215352  0.206410    -0.141603   \n",
       "OUTCOME                  0.294178 -0.262104 -0.232835     0.116417   \n",
       "\n",
       "                     ANNUAL_MILEAGE  VEHICLE_TYPE  SPEEDING_VIOLATIONS  \\\n",
       "AGE                       -0.174462     -0.008463             0.458638   \n",
       "GENDER                    -0.003920     -0.000022             0.202162   \n",
       "RACE                      -0.013211      0.006089            -0.014049   \n",
       "DRIVING_EXPERIENCE        -0.126974     -0.008554             0.637628   \n",
       "EDUCATION                 -0.049955      0.000482             0.081523   \n",
       "INCOME                    -0.040136     -0.012181             0.061612   \n",
       "CREDIT_SCORE              -0.100304     -0.009545             0.174595   \n",
       "VEHICLE_OWNERSHIP         -0.055311      0.005647             0.133914   \n",
       "VEHICLE_YEAR               0.057346      0.025185            -0.102838   \n",
       "MARRIED                   -0.274639      0.006905             0.218936   \n",
       "CHILDREN                  -0.265603     -0.008672             0.220527   \n",
       "POSTAL_CODE               -0.137006     -0.000134             0.221217   \n",
       "ANNUAL_MILEAGE             1.000000     -0.010815            -0.201516   \n",
       "VEHICLE_TYPE              -0.010815      1.000000             0.001833   \n",
       "SPEEDING_VIOLATIONS       -0.201516      0.001833             1.000000   \n",
       "DUIS                      -0.076438     -0.005156             0.360156   \n",
       "PAST_ACCIDENTS            -0.131500     -0.013290             0.443328   \n",
       "OUTCOME                    0.124657      0.005620            -0.292028   \n",
       "\n",
       "                         DUIS  PAST_ACCIDENTS   OUTCOME  \n",
       "AGE                  0.281937        0.431292 -0.448463  \n",
       "GENDER               0.094202        0.223293  0.107208  \n",
       "RACE                -0.015296       -0.008816  0.008280  \n",
       "DRIVING_EXPERIENCE   0.399398        0.605037 -0.497431  \n",
       "EDUCATION            0.056286        0.067246 -0.092643  \n",
       "INCOME               0.051878        0.050455 -0.047560  \n",
       "CREDIT_SCORE         0.106639        0.151417 -0.274589  \n",
       "VEHICLE_OWNERSHIP    0.086567        0.119555 -0.378921  \n",
       "VEHICLE_YEAR        -0.049981       -0.097628  0.294178  \n",
       "MARRIED              0.120840        0.215352 -0.262104  \n",
       "CHILDREN             0.115354        0.206410 -0.232835  \n",
       "POSTAL_CODE          0.091645       -0.141603  0.116417  \n",
       "ANNUAL_MILEAGE      -0.076438       -0.131500  0.124657  \n",
       "VEHICLE_TYPE        -0.005156       -0.013290  0.005620  \n",
       "SPEEDING_VIOLATIONS  0.360156        0.443328 -0.292028  \n",
       "DUIS                 1.000000        0.259548 -0.189352  \n",
       "PAST_ACCIDENTS       0.259548        1.000000 -0.311709  \n",
       "OUTCOME             -0.189352       -0.311709  1.000000  "
      ]
     },
     "execution_count": 53,
     "metadata": {},
     "output_type": "execute_result"
    }
   ],
   "source": [
    "HelperMethods.show_correlations(data_frame=dtf,categorical_columns=dtf.columns)"
   ]
  },
  {
   "cell_type": "markdown",
   "id": "c8541efd",
   "metadata": {},
   "source": [
    "### 2. Start preproces for the Machine learning model"
   ]
  },
  {
   "cell_type": "markdown",
   "id": "383975e2",
   "metadata": {},
   "source": [
    "Some of the numrical attribute can be \"look\" like catogircal because they have low range of values. so convert those attributes with astype method"
   ]
  },
  {
   "cell_type": "code",
   "execution_count": 54,
   "id": "4d424eae",
   "metadata": {},
   "outputs": [],
   "source": [
    "list_to_convert = ['VEHICLE_OWNERSHIP','MARRIED','CHILDREN','SPEEDING_VIOLATIONS','PAST_ACCIDENTS']\n",
    "HelperMethods.convert_with_astype(dtf,list_to_convert)"
   ]
  },
  {
   "cell_type": "markdown",
   "id": "36bc97c9",
   "metadata": {},
   "source": [
    "split the data"
   ]
  },
  {
   "cell_type": "code",
   "execution_count": 55,
   "id": "1486be67",
   "metadata": {},
   "outputs": [],
   "source": [
    " dtf_train, dtf_test = dtf_train, dtf_test = train_test_split(dtf,test_size=0.25)"
   ]
  },
  {
   "cell_type": "markdown",
   "id": "0f0f424d",
   "metadata": {},
   "source": [
    "#### Get the dataset ready for apriori"
   ]
  },
  {
   "cell_type": "markdown",
   "id": "e1d7a26a",
   "metadata": {},
   "source": [
    "convert to categorical (using 4 bins)"
   ]
  },
  {
   "cell_type": "code",
   "execution_count": 56,
   "id": "c96d2c21",
   "metadata": {},
   "outputs": [],
   "source": [
    "categorical_train = dtf_train.copy().drop('OUTCOME',axis=1)\n",
    "categorical_test = dtf_test.copy().drop('OUTCOME',axis=1)"
   ]
  },
  {
   "cell_type": "markdown",
   "id": "3c1fce5f",
   "metadata": {},
   "source": [
    "Convert credit score, also save dictionary of the mean of each lable so after using apriori\n",
    "we can convert back to the mean of the bin."
   ]
  },
  {
   "cell_type": "code",
   "execution_count": 57,
   "id": "450f4755",
   "metadata": {},
   "outputs": [
    {
     "ename": "TypeError",
     "evalue": "equal_convertToCategorical() missing 1 required positional argument: 'typeTest'",
     "output_type": "error",
     "traceback": [
      "\u001B[0;31m---------------------------------------------------------------------------\u001B[0m",
      "\u001B[0;31mTypeError\u001B[0m                                 Traceback (most recent call last)",
      "Cell \u001B[0;32mIn[57], line 2\u001B[0m\n\u001B[1;32m      1\u001B[0m credit_score_label \u001B[38;5;241m=\u001B[39m [\u001B[38;5;124m'\u001B[39m\u001B[38;5;124mlow\u001B[39m\u001B[38;5;124m'\u001B[39m,\u001B[38;5;124m'\u001B[39m\u001B[38;5;124mmedium\u001B[39m\u001B[38;5;124m'\u001B[39m,\u001B[38;5;124m'\u001B[39m\u001B[38;5;124mhigh\u001B[39m\u001B[38;5;124m'\u001B[39m,\u001B[38;5;124m'\u001B[39m\u001B[38;5;124mveryHigh\u001B[39m\u001B[38;5;124m'\u001B[39m]\n\u001B[0;32m----> 2\u001B[0m categorical_train, credit_train_dict \u001B[38;5;241m=\u001B[39m \u001B[43mHelperMethods\u001B[49m\u001B[38;5;241;43m.\u001B[39;49m\u001B[43mequal_convertToCategorical\u001B[49m\u001B[43m(\u001B[49m\u001B[43mcategorical_train\u001B[49m\u001B[43m,\u001B[49m\u001B[43mcredit_score_label\u001B[49m\u001B[43m,\u001B[49m\u001B[38;5;241;43m4\u001B[39;49m\u001B[43m,\u001B[49m\u001B[38;5;124;43m'\u001B[39;49m\u001B[38;5;124;43mCREDIT_SCORE\u001B[39;49m\u001B[38;5;124;43m'\u001B[39;49m\u001B[43m)\u001B[49m\n\u001B[1;32m      3\u001B[0m categorical_test, credit_test_dict \u001B[38;5;241m=\u001B[39m HelperMethods\u001B[38;5;241m.\u001B[39mequal_convertToCategorical(categorical_test,credit_score_label,\u001B[38;5;241m4\u001B[39m,\u001B[38;5;124m'\u001B[39m\u001B[38;5;124mCREDIT_SCORE\u001B[39m\u001B[38;5;124m'\u001B[39m)\n",
      "\u001B[0;31mTypeError\u001B[0m: equal_convertToCategorical() missing 1 required positional argument: 'typeTest'"
     ]
    }
   ],
   "source": [
    "credit_score_label = ['low','medium','high','veryHigh']\n",
    "categorical_train, credit_train_dict = HelperMethods.equal_convertToCategorical(categorical_train,credit_score_label,4,'CREDIT_SCORE')\n",
    "categorical_test, credit_test_dict = HelperMethods.equal_convertToCategorical(categorical_test,credit_score_label,4,'CREDIT_SCORE')"
   ]
  },
  {
   "cell_type": "markdown",
   "id": "6aaaedce",
   "metadata": {},
   "source": [
    "do the same with \"ANNUAL_MILEAGE \""
   ]
  },
  {
   "cell_type": "code",
   "execution_count": null,
   "id": "bcc73ba2",
   "metadata": {},
   "outputs": [],
   "source": [
    "ANNUAL_MILEAGE_label = ['low','medium','high','veryHigh']\n",
    "categorical_train, annual_train_dict = HelperMethods.equal_convertToCategorical(categorical_train,ANNUAL_MILEAGE_label,4,'ANNUAL_MILEAGE')\n",
    "categorical_test, annual_test_dict = HelperMethods.equal_convertToCategorical(categorical_test,ANNUAL_MILEAGE_label,4,'ANNUAL_MILEAGE')"
   ]
  },
  {
   "cell_type": "markdown",
   "id": "6f1c03e1",
   "metadata": {},
   "source": [
    "we will need also dictionary of dictionaries to be able convert back to numerical attribute"
   ]
  },
  {
   "cell_type": "code",
   "execution_count": null,
   "id": "730ce0e6",
   "metadata": {},
   "outputs": [],
   "source": [
    "converted_train_dictionary = {\n",
    "    \"CREDIT_SCORE\": credit_train_dict,\n",
    "    \"ANNUAL_MILEAGE\": annual_train_dict,\n",
    "}\n",
    "typeDictionary = dtf_train.dtypes.to_dict()"
   ]
  }
 ],
 "metadata": {
  "kernelspec": {
   "display_name": "Python 3 (ipykernel)",
   "language": "python",
   "name": "python3"
  },
  "language_info": {
   "codemirror_mode": {
    "name": "ipython",
    "version": 3
   },
   "file_extension": ".py",
   "mimetype": "text/x-python",
   "name": "python",
   "nbconvert_exporter": "python",
   "pygments_lexer": "ipython3",
   "version": "3.9.6"
  }
 },
 "nbformat": 4,
 "nbformat_minor": 5
}
